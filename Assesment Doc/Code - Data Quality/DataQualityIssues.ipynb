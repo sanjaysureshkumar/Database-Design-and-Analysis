{
  "nbformat": 4,
  "nbformat_minor": 0,
  "metadata": {
    "colab": {
      "provenance": []
    },
    "kernelspec": {
      "name": "python3",
      "display_name": "Python 3"
    },
    "language_info": {
      "name": "python"
    }
  },
  "cells": [
    {
      "cell_type": "markdown",
      "source": [
        "# For more detailed report , refer to the attached pdf document"
      ],
      "metadata": {
        "id": "pym6QPdAz4ED"
      }
    },
    {
      "cell_type": "code",
      "execution_count": 85,
      "metadata": {
        "colab": {
          "base_uri": "https://localhost:8080/"
        },
        "id": "GfBbabOw0c9v",
        "outputId": "87c28bb8-ea69-41a6-bea5-f4ee1efa994f"
      },
      "outputs": [
        {
          "output_type": "stream",
          "name": "stdout",
          "text": [
            "Drive already mounted at /content/drive; to attempt to forcibly remount, call drive.mount(\"/content/drive\", force_remount=True).\n"
          ]
        }
      ],
      "source": [
        "from google.colab import drive\n",
        "drive.mount('/content/drive')"
      ]
    },
    {
      "cell_type": "code",
      "source": [
        "%cd drive/MyDrive\n",
        "%cd Fetch\\ Rewards\\ CSV "
      ],
      "metadata": {
        "colab": {
          "base_uri": "https://localhost:8080/"
        },
        "id": "4Wr8jGHx6fQa",
        "outputId": "29c6f681-2195-499c-f1ee-7f0ebc4867a1"
      },
      "execution_count": 86,
      "outputs": [
        {
          "output_type": "stream",
          "name": "stdout",
          "text": [
            "[Errno 2] No such file or directory: 'drive/MyDrive'\n",
            "/content/drive/MyDrive/Fetch Rewards CSV\n",
            "[Errno 2] No such file or directory: 'Fetch Rewards CSV'\n",
            "/content/drive/MyDrive/Fetch Rewards CSV\n"
          ]
        }
      ]
    },
    {
      "cell_type": "markdown",
      "source": [
        "# Importing Necessary Libraries"
      ],
      "metadata": {
        "id": "soQudNc6X7VH"
      }
    },
    {
      "cell_type": "code",
      "source": [
        "import pandas as pd\n",
        "import numpy as np\n",
        "import math"
      ],
      "metadata": {
        "id": "W3tks73DxEy-"
      },
      "execution_count": 87,
      "outputs": []
    },
    {
      "cell_type": "markdown",
      "source": [
        "# Reading USERS table"
      ],
      "metadata": {
        "id": "iAw9bxolX_VW"
      }
    },
    {
      "cell_type": "code",
      "source": [
        "users = pd.read_csv('users.csv')\n",
        "users.head()"
      ],
      "metadata": {
        "colab": {
          "base_uri": "https://localhost:8080/",
          "height": 206
        },
        "id": "XoH-FBA8y7y_",
        "outputId": "b8084b96-ac7a-4e3e-e93c-07a873e91362"
      },
      "execution_count": 88,
      "outputs": [
        {
          "output_type": "execute_result",
          "data": {
            "text/plain": [
              "                  _id__$oid  active  createdDate__$date  lastLogin__$date  \\\n",
              "0  5ff1e194b6a9d73a3a9f1052    True       1609687444800      1.609688e+12   \n",
              "1  5ff1e194b6a9d73a3a9f1052    True       1609687444800      1.609688e+12   \n",
              "2  5ff1e194b6a9d73a3a9f1052    True       1609687444800      1.609688e+12   \n",
              "3  5ff1e1eacfcf6c399c274ae6    True       1609687530554      1.609688e+12   \n",
              "4  5ff1e194b6a9d73a3a9f1052    True       1609687444800      1.609688e+12   \n",
              "\n",
              "       role signUpSource state  \n",
              "0  consumer        Email    WI  \n",
              "1  consumer        Email    WI  \n",
              "2  consumer        Email    WI  \n",
              "3  consumer        Email    WI  \n",
              "4  consumer        Email    WI  "
            ],
            "text/html": [
              "\n",
              "  <div id=\"df-8082c697-d005-497b-9394-7223688868bc\">\n",
              "    <div class=\"colab-df-container\">\n",
              "      <div>\n",
              "<style scoped>\n",
              "    .dataframe tbody tr th:only-of-type {\n",
              "        vertical-align: middle;\n",
              "    }\n",
              "\n",
              "    .dataframe tbody tr th {\n",
              "        vertical-align: top;\n",
              "    }\n",
              "\n",
              "    .dataframe thead th {\n",
              "        text-align: right;\n",
              "    }\n",
              "</style>\n",
              "<table border=\"1\" class=\"dataframe\">\n",
              "  <thead>\n",
              "    <tr style=\"text-align: right;\">\n",
              "      <th></th>\n",
              "      <th>_id__$oid</th>\n",
              "      <th>active</th>\n",
              "      <th>createdDate__$date</th>\n",
              "      <th>lastLogin__$date</th>\n",
              "      <th>role</th>\n",
              "      <th>signUpSource</th>\n",
              "      <th>state</th>\n",
              "    </tr>\n",
              "  </thead>\n",
              "  <tbody>\n",
              "    <tr>\n",
              "      <th>0</th>\n",
              "      <td>5ff1e194b6a9d73a3a9f1052</td>\n",
              "      <td>True</td>\n",
              "      <td>1609687444800</td>\n",
              "      <td>1.609688e+12</td>\n",
              "      <td>consumer</td>\n",
              "      <td>Email</td>\n",
              "      <td>WI</td>\n",
              "    </tr>\n",
              "    <tr>\n",
              "      <th>1</th>\n",
              "      <td>5ff1e194b6a9d73a3a9f1052</td>\n",
              "      <td>True</td>\n",
              "      <td>1609687444800</td>\n",
              "      <td>1.609688e+12</td>\n",
              "      <td>consumer</td>\n",
              "      <td>Email</td>\n",
              "      <td>WI</td>\n",
              "    </tr>\n",
              "    <tr>\n",
              "      <th>2</th>\n",
              "      <td>5ff1e194b6a9d73a3a9f1052</td>\n",
              "      <td>True</td>\n",
              "      <td>1609687444800</td>\n",
              "      <td>1.609688e+12</td>\n",
              "      <td>consumer</td>\n",
              "      <td>Email</td>\n",
              "      <td>WI</td>\n",
              "    </tr>\n",
              "    <tr>\n",
              "      <th>3</th>\n",
              "      <td>5ff1e1eacfcf6c399c274ae6</td>\n",
              "      <td>True</td>\n",
              "      <td>1609687530554</td>\n",
              "      <td>1.609688e+12</td>\n",
              "      <td>consumer</td>\n",
              "      <td>Email</td>\n",
              "      <td>WI</td>\n",
              "    </tr>\n",
              "    <tr>\n",
              "      <th>4</th>\n",
              "      <td>5ff1e194b6a9d73a3a9f1052</td>\n",
              "      <td>True</td>\n",
              "      <td>1609687444800</td>\n",
              "      <td>1.609688e+12</td>\n",
              "      <td>consumer</td>\n",
              "      <td>Email</td>\n",
              "      <td>WI</td>\n",
              "    </tr>\n",
              "  </tbody>\n",
              "</table>\n",
              "</div>\n",
              "      <button class=\"colab-df-convert\" onclick=\"convertToInteractive('df-8082c697-d005-497b-9394-7223688868bc')\"\n",
              "              title=\"Convert this dataframe to an interactive table.\"\n",
              "              style=\"display:none;\">\n",
              "        \n",
              "  <svg xmlns=\"http://www.w3.org/2000/svg\" height=\"24px\"viewBox=\"0 0 24 24\"\n",
              "       width=\"24px\">\n",
              "    <path d=\"M0 0h24v24H0V0z\" fill=\"none\"/>\n",
              "    <path d=\"M18.56 5.44l.94 2.06.94-2.06 2.06-.94-2.06-.94-.94-2.06-.94 2.06-2.06.94zm-11 1L8.5 8.5l.94-2.06 2.06-.94-2.06-.94L8.5 2.5l-.94 2.06-2.06.94zm10 10l.94 2.06.94-2.06 2.06-.94-2.06-.94-.94-2.06-.94 2.06-2.06.94z\"/><path d=\"M17.41 7.96l-1.37-1.37c-.4-.4-.92-.59-1.43-.59-.52 0-1.04.2-1.43.59L10.3 9.45l-7.72 7.72c-.78.78-.78 2.05 0 2.83L4 21.41c.39.39.9.59 1.41.59.51 0 1.02-.2 1.41-.59l7.78-7.78 2.81-2.81c.8-.78.8-2.07 0-2.86zM5.41 20L4 18.59l7.72-7.72 1.47 1.35L5.41 20z\"/>\n",
              "  </svg>\n",
              "      </button>\n",
              "      \n",
              "  <style>\n",
              "    .colab-df-container {\n",
              "      display:flex;\n",
              "      flex-wrap:wrap;\n",
              "      gap: 12px;\n",
              "    }\n",
              "\n",
              "    .colab-df-convert {\n",
              "      background-color: #E8F0FE;\n",
              "      border: none;\n",
              "      border-radius: 50%;\n",
              "      cursor: pointer;\n",
              "      display: none;\n",
              "      fill: #1967D2;\n",
              "      height: 32px;\n",
              "      padding: 0 0 0 0;\n",
              "      width: 32px;\n",
              "    }\n",
              "\n",
              "    .colab-df-convert:hover {\n",
              "      background-color: #E2EBFA;\n",
              "      box-shadow: 0px 1px 2px rgba(60, 64, 67, 0.3), 0px 1px 3px 1px rgba(60, 64, 67, 0.15);\n",
              "      fill: #174EA6;\n",
              "    }\n",
              "\n",
              "    [theme=dark] .colab-df-convert {\n",
              "      background-color: #3B4455;\n",
              "      fill: #D2E3FC;\n",
              "    }\n",
              "\n",
              "    [theme=dark] .colab-df-convert:hover {\n",
              "      background-color: #434B5C;\n",
              "      box-shadow: 0px 1px 3px 1px rgba(0, 0, 0, 0.15);\n",
              "      filter: drop-shadow(0px 1px 2px rgba(0, 0, 0, 0.3));\n",
              "      fill: #FFFFFF;\n",
              "    }\n",
              "  </style>\n",
              "\n",
              "      <script>\n",
              "        const buttonEl =\n",
              "          document.querySelector('#df-8082c697-d005-497b-9394-7223688868bc button.colab-df-convert');\n",
              "        buttonEl.style.display =\n",
              "          google.colab.kernel.accessAllowed ? 'block' : 'none';\n",
              "\n",
              "        async function convertToInteractive(key) {\n",
              "          const element = document.querySelector('#df-8082c697-d005-497b-9394-7223688868bc');\n",
              "          const dataTable =\n",
              "            await google.colab.kernel.invokeFunction('convertToInteractive',\n",
              "                                                     [key], {});\n",
              "          if (!dataTable) return;\n",
              "\n",
              "          const docLinkHtml = 'Like what you see? Visit the ' +\n",
              "            '<a target=\"_blank\" href=https://colab.research.google.com/notebooks/data_table.ipynb>data table notebook</a>'\n",
              "            + ' to learn more about interactive tables.';\n",
              "          element.innerHTML = '';\n",
              "          dataTable['output_type'] = 'display_data';\n",
              "          await google.colab.output.renderOutput(dataTable, element);\n",
              "          const docLink = document.createElement('div');\n",
              "          docLink.innerHTML = docLinkHtml;\n",
              "          element.appendChild(docLink);\n",
              "        }\n",
              "      </script>\n",
              "    </div>\n",
              "  </div>\n",
              "  "
            ]
          },
          "metadata": {},
          "execution_count": 88
        }
      ]
    },
    {
      "cell_type": "code",
      "source": [
        "users.columns=[\"id\",\"active\",\"createdDate\",\"lastLogin\",\"role\",\"signUpSource\",\"state\"]"
      ],
      "metadata": {
        "id": "hhfuvsV40bpb"
      },
      "execution_count": 89,
      "outputs": []
    },
    {
      "cell_type": "markdown",
      "source": [
        "# ISSUE 1 : Finding Duplicate Records"
      ],
      "metadata": {
        "id": "Kpik2HwZYH2Z"
      }
    },
    {
      "cell_type": "code",
      "source": [
        "users.id.value_counts().sort_values(ascending=False)[:20]"
      ],
      "metadata": {
        "id": "31kgzYN60uTM",
        "outputId": "159c42f1-8f4c-47c9-f1cd-53e5a4d06684",
        "colab": {
          "base_uri": "https://localhost:8080/"
        }
      },
      "execution_count": 90,
      "outputs": [
        {
          "output_type": "execute_result",
          "data": {
            "text/plain": [
              "54943462e4b07e684157a532    20\n",
              "5fc961c3b8cfca11a077dd33    20\n",
              "5ff5d15aeb7c7d12096d91a2    18\n",
              "5fa41775898c7a11a6bcef3e    18\n",
              "59c124bae4b0299e55b0f330    18\n",
              "600fb1ac73c60b12049027bb    16\n",
              "5ff1e194b6a9d73a3a9f1052    11\n",
              "600987d77d983a11f63cfa92     9\n",
              "600056a3f7e5b011fce897b0     8\n",
              "5a43c08fe4b014fd6b6a0612     8\n",
              "600f008f4329897eac237bd8     7\n",
              "5ff4ce33c3d63511e2a484b6     7\n",
              "60189c74c8b50e11d8454eff     7\n",
              "5fff55dabd4dff11dda8f5f1     7\n",
              "5ffc8f9704929111f6e922bf     6\n",
              "600741d06e6469120a787853     6\n",
              "6000b75bbe5fc96dfee1d4d3     6\n",
              "5ff873d1b3348b11c9337716     5\n",
              "6008893b633aab121bb8e0a9     5\n",
              "60147d2ac8b50e11d8453f53     5\n",
              "Name: id, dtype: int64"
            ]
          },
          "metadata": {},
          "execution_count": 90
        }
      ]
    },
    {
      "cell_type": "markdown",
      "source": [
        "## Shape of original table"
      ],
      "metadata": {
        "id": "aRihRPU8YO7y"
      }
    },
    {
      "cell_type": "code",
      "source": [
        "users.shape"
      ],
      "metadata": {
        "colab": {
          "base_uri": "https://localhost:8080/"
        },
        "id": "hFBQA7Iq-x3G",
        "outputId": "ad9dd3e8-26de-4904-a30b-8cff3690f55a"
      },
      "execution_count": 91,
      "outputs": [
        {
          "output_type": "execute_result",
          "data": {
            "text/plain": [
              "(495, 7)"
            ]
          },
          "metadata": {},
          "execution_count": 91
        }
      ]
    },
    {
      "cell_type": "markdown",
      "source": [
        "## Dropping duplicates"
      ],
      "metadata": {
        "id": "UsxbNKFgYVAF"
      }
    },
    {
      "cell_type": "code",
      "source": [
        "users_no_duplicates = users.copy()\n",
        "users_no_duplicates = users_no_duplicates.drop_duplicates()\n"
      ],
      "metadata": {
        "id": "oxBLdpCMvPSG"
      },
      "execution_count": 92,
      "outputs": []
    },
    {
      "cell_type": "markdown",
      "source": [
        "## Shape of non-duplicate data"
      ],
      "metadata": {
        "id": "uVHAaipmYbP_"
      }
    },
    {
      "cell_type": "code",
      "source": [
        "users_no_duplicates.shape"
      ],
      "metadata": {
        "colab": {
          "base_uri": "https://localhost:8080/"
        },
        "id": "Nykmq8SjYZO4",
        "outputId": "d321026f-52f4-479b-fc9e-a29730b03dc3"
      },
      "execution_count": 93,
      "outputs": [
        {
          "output_type": "execute_result",
          "data": {
            "text/plain": [
              "(212, 7)"
            ]
          },
          "metadata": {},
          "execution_count": 93
        }
      ]
    },
    {
      "cell_type": "markdown",
      "source": [
        "# ISSUE 2 : Removing ROLE column in USER Table"
      ],
      "metadata": {
        "id": "zVRhQpbpYkB_"
      }
    },
    {
      "cell_type": "code",
      "source": [
        "users_no_duplicates = users_no_duplicates.drop(\"role\",axis=1)"
      ],
      "metadata": {
        "id": "e5RcLVQrvPUs"
      },
      "execution_count": 94,
      "outputs": []
    },
    {
      "cell_type": "code",
      "source": [
        "users_no_duplicates.head()"
      ],
      "metadata": {
        "colab": {
          "base_uri": "https://localhost:8080/",
          "height": 206
        },
        "id": "q3lqxdBovPXV",
        "outputId": "37fd2024-31f9-4a85-8ac1-3a8dcdb8429c"
      },
      "execution_count": 95,
      "outputs": [
        {
          "output_type": "execute_result",
          "data": {
            "text/plain": [
              "                         id  active    createdDate     lastLogin signUpSource  \\\n",
              "0  5ff1e194b6a9d73a3a9f1052    True  1609687444800  1.609688e+12        Email   \n",
              "3  5ff1e1eacfcf6c399c274ae6    True  1609687530554  1.609688e+12        Email   \n",
              "6  5ff1e1e8cfcf6c399c274ad9    True  1609687528354  1.609688e+12        Email   \n",
              "7  5ff1e1b7cfcf6c399c274a5a    True  1609687479626  1.609687e+12        Email   \n",
              "9  5ff1e1f1cfcf6c399c274b0b    True  1609687537564  1.609688e+12        Email   \n",
              "\n",
              "  state  \n",
              "0    WI  \n",
              "3    WI  \n",
              "6    WI  \n",
              "7    WI  \n",
              "9    WI  "
            ],
            "text/html": [
              "\n",
              "  <div id=\"df-e06390a3-0181-4ea7-bea8-ac981c09a308\">\n",
              "    <div class=\"colab-df-container\">\n",
              "      <div>\n",
              "<style scoped>\n",
              "    .dataframe tbody tr th:only-of-type {\n",
              "        vertical-align: middle;\n",
              "    }\n",
              "\n",
              "    .dataframe tbody tr th {\n",
              "        vertical-align: top;\n",
              "    }\n",
              "\n",
              "    .dataframe thead th {\n",
              "        text-align: right;\n",
              "    }\n",
              "</style>\n",
              "<table border=\"1\" class=\"dataframe\">\n",
              "  <thead>\n",
              "    <tr style=\"text-align: right;\">\n",
              "      <th></th>\n",
              "      <th>id</th>\n",
              "      <th>active</th>\n",
              "      <th>createdDate</th>\n",
              "      <th>lastLogin</th>\n",
              "      <th>signUpSource</th>\n",
              "      <th>state</th>\n",
              "    </tr>\n",
              "  </thead>\n",
              "  <tbody>\n",
              "    <tr>\n",
              "      <th>0</th>\n",
              "      <td>5ff1e194b6a9d73a3a9f1052</td>\n",
              "      <td>True</td>\n",
              "      <td>1609687444800</td>\n",
              "      <td>1.609688e+12</td>\n",
              "      <td>Email</td>\n",
              "      <td>WI</td>\n",
              "    </tr>\n",
              "    <tr>\n",
              "      <th>3</th>\n",
              "      <td>5ff1e1eacfcf6c399c274ae6</td>\n",
              "      <td>True</td>\n",
              "      <td>1609687530554</td>\n",
              "      <td>1.609688e+12</td>\n",
              "      <td>Email</td>\n",
              "      <td>WI</td>\n",
              "    </tr>\n",
              "    <tr>\n",
              "      <th>6</th>\n",
              "      <td>5ff1e1e8cfcf6c399c274ad9</td>\n",
              "      <td>True</td>\n",
              "      <td>1609687528354</td>\n",
              "      <td>1.609688e+12</td>\n",
              "      <td>Email</td>\n",
              "      <td>WI</td>\n",
              "    </tr>\n",
              "    <tr>\n",
              "      <th>7</th>\n",
              "      <td>5ff1e1b7cfcf6c399c274a5a</td>\n",
              "      <td>True</td>\n",
              "      <td>1609687479626</td>\n",
              "      <td>1.609687e+12</td>\n",
              "      <td>Email</td>\n",
              "      <td>WI</td>\n",
              "    </tr>\n",
              "    <tr>\n",
              "      <th>9</th>\n",
              "      <td>5ff1e1f1cfcf6c399c274b0b</td>\n",
              "      <td>True</td>\n",
              "      <td>1609687537564</td>\n",
              "      <td>1.609688e+12</td>\n",
              "      <td>Email</td>\n",
              "      <td>WI</td>\n",
              "    </tr>\n",
              "  </tbody>\n",
              "</table>\n",
              "</div>\n",
              "      <button class=\"colab-df-convert\" onclick=\"convertToInteractive('df-e06390a3-0181-4ea7-bea8-ac981c09a308')\"\n",
              "              title=\"Convert this dataframe to an interactive table.\"\n",
              "              style=\"display:none;\">\n",
              "        \n",
              "  <svg xmlns=\"http://www.w3.org/2000/svg\" height=\"24px\"viewBox=\"0 0 24 24\"\n",
              "       width=\"24px\">\n",
              "    <path d=\"M0 0h24v24H0V0z\" fill=\"none\"/>\n",
              "    <path d=\"M18.56 5.44l.94 2.06.94-2.06 2.06-.94-2.06-.94-.94-2.06-.94 2.06-2.06.94zm-11 1L8.5 8.5l.94-2.06 2.06-.94-2.06-.94L8.5 2.5l-.94 2.06-2.06.94zm10 10l.94 2.06.94-2.06 2.06-.94-2.06-.94-.94-2.06-.94 2.06-2.06.94z\"/><path d=\"M17.41 7.96l-1.37-1.37c-.4-.4-.92-.59-1.43-.59-.52 0-1.04.2-1.43.59L10.3 9.45l-7.72 7.72c-.78.78-.78 2.05 0 2.83L4 21.41c.39.39.9.59 1.41.59.51 0 1.02-.2 1.41-.59l7.78-7.78 2.81-2.81c.8-.78.8-2.07 0-2.86zM5.41 20L4 18.59l7.72-7.72 1.47 1.35L5.41 20z\"/>\n",
              "  </svg>\n",
              "      </button>\n",
              "      \n",
              "  <style>\n",
              "    .colab-df-container {\n",
              "      display:flex;\n",
              "      flex-wrap:wrap;\n",
              "      gap: 12px;\n",
              "    }\n",
              "\n",
              "    .colab-df-convert {\n",
              "      background-color: #E8F0FE;\n",
              "      border: none;\n",
              "      border-radius: 50%;\n",
              "      cursor: pointer;\n",
              "      display: none;\n",
              "      fill: #1967D2;\n",
              "      height: 32px;\n",
              "      padding: 0 0 0 0;\n",
              "      width: 32px;\n",
              "    }\n",
              "\n",
              "    .colab-df-convert:hover {\n",
              "      background-color: #E2EBFA;\n",
              "      box-shadow: 0px 1px 2px rgba(60, 64, 67, 0.3), 0px 1px 3px 1px rgba(60, 64, 67, 0.15);\n",
              "      fill: #174EA6;\n",
              "    }\n",
              "\n",
              "    [theme=dark] .colab-df-convert {\n",
              "      background-color: #3B4455;\n",
              "      fill: #D2E3FC;\n",
              "    }\n",
              "\n",
              "    [theme=dark] .colab-df-convert:hover {\n",
              "      background-color: #434B5C;\n",
              "      box-shadow: 0px 1px 3px 1px rgba(0, 0, 0, 0.15);\n",
              "      filter: drop-shadow(0px 1px 2px rgba(0, 0, 0, 0.3));\n",
              "      fill: #FFFFFF;\n",
              "    }\n",
              "  </style>\n",
              "\n",
              "      <script>\n",
              "        const buttonEl =\n",
              "          document.querySelector('#df-e06390a3-0181-4ea7-bea8-ac981c09a308 button.colab-df-convert');\n",
              "        buttonEl.style.display =\n",
              "          google.colab.kernel.accessAllowed ? 'block' : 'none';\n",
              "\n",
              "        async function convertToInteractive(key) {\n",
              "          const element = document.querySelector('#df-e06390a3-0181-4ea7-bea8-ac981c09a308');\n",
              "          const dataTable =\n",
              "            await google.colab.kernel.invokeFunction('convertToInteractive',\n",
              "                                                     [key], {});\n",
              "          if (!dataTable) return;\n",
              "\n",
              "          const docLinkHtml = 'Like what you see? Visit the ' +\n",
              "            '<a target=\"_blank\" href=https://colab.research.google.com/notebooks/data_table.ipynb>data table notebook</a>'\n",
              "            + ' to learn more about interactive tables.';\n",
              "          element.innerHTML = '';\n",
              "          dataTable['output_type'] = 'display_data';\n",
              "          await google.colab.output.renderOutput(dataTable, element);\n",
              "          const docLink = document.createElement('div');\n",
              "          docLink.innerHTML = docLinkHtml;\n",
              "          element.appendChild(docLink);\n",
              "        }\n",
              "      </script>\n",
              "    </div>\n",
              "  </div>\n",
              "  "
            ]
          },
          "metadata": {},
          "execution_count": 95
        }
      ]
    },
    {
      "cell_type": "markdown",
      "source": [
        "# Reading BRANDS Table"
      ],
      "metadata": {
        "id": "y_h-u__CYz9h"
      }
    },
    {
      "cell_type": "code",
      "source": [
        "brands = pd.read_csv('brands.csv')\n",
        "brands.head()"
      ],
      "metadata": {
        "colab": {
          "base_uri": "https://localhost:8080/",
          "height": 320
        },
        "id": "dSGoSMi8xLn_",
        "outputId": "71351aac-5d6d-46ad-ddf0-fc617fd08fab"
      },
      "execution_count": 96,
      "outputs": [
        {
          "output_type": "execute_result",
          "data": {
            "text/plain": [
              "                  _id__$oid       barcode                      brandCode  \\\n",
              "0  601ac115be37ce2ead437551  511111019862                            NaN   \n",
              "1  601c5460be37ce2ead43755f  511111519928                      STARBUCKS   \n",
              "2  601ac142be37ce2ead43755d  511111819905  TEST BRANDCODE @1612366146176   \n",
              "3  601ac142be37ce2ead43755a  511111519874  TEST BRANDCODE @1612366146051   \n",
              "4  601ac142be37ce2ead43755e  511111319917  TEST BRANDCODE @1612366146827   \n",
              "\n",
              "         category      categoryCode            cpg__$id__$oid cpg__$ref  \\\n",
              "0          Baking            BAKING  601ac114be37ce2ead437550      Cogs   \n",
              "1       Beverages         BEVERAGES  5332f5fbe4b03c9a25efd0ba      Cogs   \n",
              "2          Baking            BAKING  601ac142be37ce2ead437559      Cogs   \n",
              "3          Baking            BAKING  601ac142be37ce2ead437559      Cogs   \n",
              "4  Candy & Sweets  CANDY_AND_SWEETS  5332fa12e4b03c9a25efd1e7      Cogs   \n",
              "\n",
              "                        name topBrand  \n",
              "0  test brand @1612366101024    False  \n",
              "1                  Starbucks    False  \n",
              "2  test brand @1612366146176    False  \n",
              "3  test brand @1612366146051    False  \n",
              "4  test brand @1612366146827    False  "
            ],
            "text/html": [
              "\n",
              "  <div id=\"df-982cdac5-86bc-4e36-91e0-71372306b548\">\n",
              "    <div class=\"colab-df-container\">\n",
              "      <div>\n",
              "<style scoped>\n",
              "    .dataframe tbody tr th:only-of-type {\n",
              "        vertical-align: middle;\n",
              "    }\n",
              "\n",
              "    .dataframe tbody tr th {\n",
              "        vertical-align: top;\n",
              "    }\n",
              "\n",
              "    .dataframe thead th {\n",
              "        text-align: right;\n",
              "    }\n",
              "</style>\n",
              "<table border=\"1\" class=\"dataframe\">\n",
              "  <thead>\n",
              "    <tr style=\"text-align: right;\">\n",
              "      <th></th>\n",
              "      <th>_id__$oid</th>\n",
              "      <th>barcode</th>\n",
              "      <th>brandCode</th>\n",
              "      <th>category</th>\n",
              "      <th>categoryCode</th>\n",
              "      <th>cpg__$id__$oid</th>\n",
              "      <th>cpg__$ref</th>\n",
              "      <th>name</th>\n",
              "      <th>topBrand</th>\n",
              "    </tr>\n",
              "  </thead>\n",
              "  <tbody>\n",
              "    <tr>\n",
              "      <th>0</th>\n",
              "      <td>601ac115be37ce2ead437551</td>\n",
              "      <td>511111019862</td>\n",
              "      <td>NaN</td>\n",
              "      <td>Baking</td>\n",
              "      <td>BAKING</td>\n",
              "      <td>601ac114be37ce2ead437550</td>\n",
              "      <td>Cogs</td>\n",
              "      <td>test brand @1612366101024</td>\n",
              "      <td>False</td>\n",
              "    </tr>\n",
              "    <tr>\n",
              "      <th>1</th>\n",
              "      <td>601c5460be37ce2ead43755f</td>\n",
              "      <td>511111519928</td>\n",
              "      <td>STARBUCKS</td>\n",
              "      <td>Beverages</td>\n",
              "      <td>BEVERAGES</td>\n",
              "      <td>5332f5fbe4b03c9a25efd0ba</td>\n",
              "      <td>Cogs</td>\n",
              "      <td>Starbucks</td>\n",
              "      <td>False</td>\n",
              "    </tr>\n",
              "    <tr>\n",
              "      <th>2</th>\n",
              "      <td>601ac142be37ce2ead43755d</td>\n",
              "      <td>511111819905</td>\n",
              "      <td>TEST BRANDCODE @1612366146176</td>\n",
              "      <td>Baking</td>\n",
              "      <td>BAKING</td>\n",
              "      <td>601ac142be37ce2ead437559</td>\n",
              "      <td>Cogs</td>\n",
              "      <td>test brand @1612366146176</td>\n",
              "      <td>False</td>\n",
              "    </tr>\n",
              "    <tr>\n",
              "      <th>3</th>\n",
              "      <td>601ac142be37ce2ead43755a</td>\n",
              "      <td>511111519874</td>\n",
              "      <td>TEST BRANDCODE @1612366146051</td>\n",
              "      <td>Baking</td>\n",
              "      <td>BAKING</td>\n",
              "      <td>601ac142be37ce2ead437559</td>\n",
              "      <td>Cogs</td>\n",
              "      <td>test brand @1612366146051</td>\n",
              "      <td>False</td>\n",
              "    </tr>\n",
              "    <tr>\n",
              "      <th>4</th>\n",
              "      <td>601ac142be37ce2ead43755e</td>\n",
              "      <td>511111319917</td>\n",
              "      <td>TEST BRANDCODE @1612366146827</td>\n",
              "      <td>Candy &amp; Sweets</td>\n",
              "      <td>CANDY_AND_SWEETS</td>\n",
              "      <td>5332fa12e4b03c9a25efd1e7</td>\n",
              "      <td>Cogs</td>\n",
              "      <td>test brand @1612366146827</td>\n",
              "      <td>False</td>\n",
              "    </tr>\n",
              "  </tbody>\n",
              "</table>\n",
              "</div>\n",
              "      <button class=\"colab-df-convert\" onclick=\"convertToInteractive('df-982cdac5-86bc-4e36-91e0-71372306b548')\"\n",
              "              title=\"Convert this dataframe to an interactive table.\"\n",
              "              style=\"display:none;\">\n",
              "        \n",
              "  <svg xmlns=\"http://www.w3.org/2000/svg\" height=\"24px\"viewBox=\"0 0 24 24\"\n",
              "       width=\"24px\">\n",
              "    <path d=\"M0 0h24v24H0V0z\" fill=\"none\"/>\n",
              "    <path d=\"M18.56 5.44l.94 2.06.94-2.06 2.06-.94-2.06-.94-.94-2.06-.94 2.06-2.06.94zm-11 1L8.5 8.5l.94-2.06 2.06-.94-2.06-.94L8.5 2.5l-.94 2.06-2.06.94zm10 10l.94 2.06.94-2.06 2.06-.94-2.06-.94-.94-2.06-.94 2.06-2.06.94z\"/><path d=\"M17.41 7.96l-1.37-1.37c-.4-.4-.92-.59-1.43-.59-.52 0-1.04.2-1.43.59L10.3 9.45l-7.72 7.72c-.78.78-.78 2.05 0 2.83L4 21.41c.39.39.9.59 1.41.59.51 0 1.02-.2 1.41-.59l7.78-7.78 2.81-2.81c.8-.78.8-2.07 0-2.86zM5.41 20L4 18.59l7.72-7.72 1.47 1.35L5.41 20z\"/>\n",
              "  </svg>\n",
              "      </button>\n",
              "      \n",
              "  <style>\n",
              "    .colab-df-container {\n",
              "      display:flex;\n",
              "      flex-wrap:wrap;\n",
              "      gap: 12px;\n",
              "    }\n",
              "\n",
              "    .colab-df-convert {\n",
              "      background-color: #E8F0FE;\n",
              "      border: none;\n",
              "      border-radius: 50%;\n",
              "      cursor: pointer;\n",
              "      display: none;\n",
              "      fill: #1967D2;\n",
              "      height: 32px;\n",
              "      padding: 0 0 0 0;\n",
              "      width: 32px;\n",
              "    }\n",
              "\n",
              "    .colab-df-convert:hover {\n",
              "      background-color: #E2EBFA;\n",
              "      box-shadow: 0px 1px 2px rgba(60, 64, 67, 0.3), 0px 1px 3px 1px rgba(60, 64, 67, 0.15);\n",
              "      fill: #174EA6;\n",
              "    }\n",
              "\n",
              "    [theme=dark] .colab-df-convert {\n",
              "      background-color: #3B4455;\n",
              "      fill: #D2E3FC;\n",
              "    }\n",
              "\n",
              "    [theme=dark] .colab-df-convert:hover {\n",
              "      background-color: #434B5C;\n",
              "      box-shadow: 0px 1px 3px 1px rgba(0, 0, 0, 0.15);\n",
              "      filter: drop-shadow(0px 1px 2px rgba(0, 0, 0, 0.3));\n",
              "      fill: #FFFFFF;\n",
              "    }\n",
              "  </style>\n",
              "\n",
              "      <script>\n",
              "        const buttonEl =\n",
              "          document.querySelector('#df-982cdac5-86bc-4e36-91e0-71372306b548 button.colab-df-convert');\n",
              "        buttonEl.style.display =\n",
              "          google.colab.kernel.accessAllowed ? 'block' : 'none';\n",
              "\n",
              "        async function convertToInteractive(key) {\n",
              "          const element = document.querySelector('#df-982cdac5-86bc-4e36-91e0-71372306b548');\n",
              "          const dataTable =\n",
              "            await google.colab.kernel.invokeFunction('convertToInteractive',\n",
              "                                                     [key], {});\n",
              "          if (!dataTable) return;\n",
              "\n",
              "          const docLinkHtml = 'Like what you see? Visit the ' +\n",
              "            '<a target=\"_blank\" href=https://colab.research.google.com/notebooks/data_table.ipynb>data table notebook</a>'\n",
              "            + ' to learn more about interactive tables.';\n",
              "          element.innerHTML = '';\n",
              "          dataTable['output_type'] = 'display_data';\n",
              "          await google.colab.output.renderOutput(dataTable, element);\n",
              "          const docLink = document.createElement('div');\n",
              "          docLink.innerHTML = docLinkHtml;\n",
              "          element.appendChild(docLink);\n",
              "        }\n",
              "      </script>\n",
              "    </div>\n",
              "  </div>\n",
              "  "
            ]
          },
          "metadata": {},
          "execution_count": 96
        }
      ]
    },
    {
      "cell_type": "code",
      "source": [
        "brands.columns = [\"id\",\"barcode\",\"brandCode\",\"category\",\"categoryCode\",\"cpg_id\",\"cpg_ref\",\"name\",\"topBrand\"]"
      ],
      "metadata": {
        "id": "Ko8I44Ghe38S"
      },
      "execution_count": 97,
      "outputs": []
    },
    {
      "cell_type": "markdown",
      "source": [
        "# ISSUE 3: Too many NULL values"
      ],
      "metadata": {
        "id": "xWAPVBLEuvdl"
      }
    },
    {
      "cell_type": "markdown",
      "source": [
        "## Number of missing values per column"
      ],
      "metadata": {
        "id": "TYyWVKVUuo4u"
      }
    },
    {
      "cell_type": "code",
      "source": [
        "brands.isnull().sum()"
      ],
      "metadata": {
        "colab": {
          "base_uri": "https://localhost:8080/"
        },
        "id": "kLmdMIKS2wIl",
        "outputId": "5e68feda-7806-4190-a074-e026b811c3e9"
      },
      "execution_count": 98,
      "outputs": [
        {
          "output_type": "execute_result",
          "data": {
            "text/plain": [
              "id                0\n",
              "barcode           0\n",
              "brandCode       269\n",
              "category        155\n",
              "categoryCode    650\n",
              "cpg_id            0\n",
              "cpg_ref           0\n",
              "name              0\n",
              "topBrand        612\n",
              "dtype: int64"
            ]
          },
          "metadata": {},
          "execution_count": 98
        }
      ]
    },
    {
      "cell_type": "markdown",
      "source": [
        "# ISSUE 4 : Numerous test values"
      ],
      "metadata": {
        "id": "AR-WKRkFu0zT"
      }
    },
    {
      "cell_type": "markdown",
      "source": [
        "## Creating subset containing test Entries"
      ],
      "metadata": {
        "id": "_7K6z5iqu-FB"
      }
    },
    {
      "cell_type": "code",
      "source": [
        "brands_test = brands[brands['name'].str.contains('test brand')]"
      ],
      "metadata": {
        "id": "LEsnc-tr-3U4"
      },
      "execution_count": 99,
      "outputs": []
    },
    {
      "cell_type": "code",
      "source": [
        "brands_test.head()"
      ],
      "metadata": {
        "colab": {
          "base_uri": "https://localhost:8080/",
          "height": 337
        },
        "id": "iTz64Mub-_t7",
        "outputId": "a9fda2af-2af4-4566-ca7e-7a3773eed6c8"
      },
      "execution_count": 100,
      "outputs": [
        {
          "output_type": "execute_result",
          "data": {
            "text/plain": [
              "                         id       barcode                      brandCode  \\\n",
              "0  601ac115be37ce2ead437551  511111019862                            NaN   \n",
              "2  601ac142be37ce2ead43755d  511111819905  TEST BRANDCODE @1612366146176   \n",
              "3  601ac142be37ce2ead43755a  511111519874  TEST BRANDCODE @1612366146051   \n",
              "4  601ac142be37ce2ead43755e  511111319917  TEST BRANDCODE @1612366146827   \n",
              "5  601ac142be37ce2ead43755b  511111719885  TEST BRANDCODE @1612366146091   \n",
              "\n",
              "         category      categoryCode                    cpg_id cpg_ref  \\\n",
              "0          Baking            BAKING  601ac114be37ce2ead437550    Cogs   \n",
              "2          Baking            BAKING  601ac142be37ce2ead437559    Cogs   \n",
              "3          Baking            BAKING  601ac142be37ce2ead437559    Cogs   \n",
              "4  Candy & Sweets  CANDY_AND_SWEETS  5332fa12e4b03c9a25efd1e7    Cogs   \n",
              "5          Baking            BAKING  601ac142be37ce2ead437559    Cogs   \n",
              "\n",
              "                        name topBrand  \n",
              "0  test brand @1612366101024    False  \n",
              "2  test brand @1612366146176    False  \n",
              "3  test brand @1612366146051    False  \n",
              "4  test brand @1612366146827    False  \n",
              "5  test brand @1612366146091    False  "
            ],
            "text/html": [
              "\n",
              "  <div id=\"df-a2177315-7fd5-4d78-9509-7a0543448c3e\">\n",
              "    <div class=\"colab-df-container\">\n",
              "      <div>\n",
              "<style scoped>\n",
              "    .dataframe tbody tr th:only-of-type {\n",
              "        vertical-align: middle;\n",
              "    }\n",
              "\n",
              "    .dataframe tbody tr th {\n",
              "        vertical-align: top;\n",
              "    }\n",
              "\n",
              "    .dataframe thead th {\n",
              "        text-align: right;\n",
              "    }\n",
              "</style>\n",
              "<table border=\"1\" class=\"dataframe\">\n",
              "  <thead>\n",
              "    <tr style=\"text-align: right;\">\n",
              "      <th></th>\n",
              "      <th>id</th>\n",
              "      <th>barcode</th>\n",
              "      <th>brandCode</th>\n",
              "      <th>category</th>\n",
              "      <th>categoryCode</th>\n",
              "      <th>cpg_id</th>\n",
              "      <th>cpg_ref</th>\n",
              "      <th>name</th>\n",
              "      <th>topBrand</th>\n",
              "    </tr>\n",
              "  </thead>\n",
              "  <tbody>\n",
              "    <tr>\n",
              "      <th>0</th>\n",
              "      <td>601ac115be37ce2ead437551</td>\n",
              "      <td>511111019862</td>\n",
              "      <td>NaN</td>\n",
              "      <td>Baking</td>\n",
              "      <td>BAKING</td>\n",
              "      <td>601ac114be37ce2ead437550</td>\n",
              "      <td>Cogs</td>\n",
              "      <td>test brand @1612366101024</td>\n",
              "      <td>False</td>\n",
              "    </tr>\n",
              "    <tr>\n",
              "      <th>2</th>\n",
              "      <td>601ac142be37ce2ead43755d</td>\n",
              "      <td>511111819905</td>\n",
              "      <td>TEST BRANDCODE @1612366146176</td>\n",
              "      <td>Baking</td>\n",
              "      <td>BAKING</td>\n",
              "      <td>601ac142be37ce2ead437559</td>\n",
              "      <td>Cogs</td>\n",
              "      <td>test brand @1612366146176</td>\n",
              "      <td>False</td>\n",
              "    </tr>\n",
              "    <tr>\n",
              "      <th>3</th>\n",
              "      <td>601ac142be37ce2ead43755a</td>\n",
              "      <td>511111519874</td>\n",
              "      <td>TEST BRANDCODE @1612366146051</td>\n",
              "      <td>Baking</td>\n",
              "      <td>BAKING</td>\n",
              "      <td>601ac142be37ce2ead437559</td>\n",
              "      <td>Cogs</td>\n",
              "      <td>test brand @1612366146051</td>\n",
              "      <td>False</td>\n",
              "    </tr>\n",
              "    <tr>\n",
              "      <th>4</th>\n",
              "      <td>601ac142be37ce2ead43755e</td>\n",
              "      <td>511111319917</td>\n",
              "      <td>TEST BRANDCODE @1612366146827</td>\n",
              "      <td>Candy &amp; Sweets</td>\n",
              "      <td>CANDY_AND_SWEETS</td>\n",
              "      <td>5332fa12e4b03c9a25efd1e7</td>\n",
              "      <td>Cogs</td>\n",
              "      <td>test brand @1612366146827</td>\n",
              "      <td>False</td>\n",
              "    </tr>\n",
              "    <tr>\n",
              "      <th>5</th>\n",
              "      <td>601ac142be37ce2ead43755b</td>\n",
              "      <td>511111719885</td>\n",
              "      <td>TEST BRANDCODE @1612366146091</td>\n",
              "      <td>Baking</td>\n",
              "      <td>BAKING</td>\n",
              "      <td>601ac142be37ce2ead437559</td>\n",
              "      <td>Cogs</td>\n",
              "      <td>test brand @1612366146091</td>\n",
              "      <td>False</td>\n",
              "    </tr>\n",
              "  </tbody>\n",
              "</table>\n",
              "</div>\n",
              "      <button class=\"colab-df-convert\" onclick=\"convertToInteractive('df-a2177315-7fd5-4d78-9509-7a0543448c3e')\"\n",
              "              title=\"Convert this dataframe to an interactive table.\"\n",
              "              style=\"display:none;\">\n",
              "        \n",
              "  <svg xmlns=\"http://www.w3.org/2000/svg\" height=\"24px\"viewBox=\"0 0 24 24\"\n",
              "       width=\"24px\">\n",
              "    <path d=\"M0 0h24v24H0V0z\" fill=\"none\"/>\n",
              "    <path d=\"M18.56 5.44l.94 2.06.94-2.06 2.06-.94-2.06-.94-.94-2.06-.94 2.06-2.06.94zm-11 1L8.5 8.5l.94-2.06 2.06-.94-2.06-.94L8.5 2.5l-.94 2.06-2.06.94zm10 10l.94 2.06.94-2.06 2.06-.94-2.06-.94-.94-2.06-.94 2.06-2.06.94z\"/><path d=\"M17.41 7.96l-1.37-1.37c-.4-.4-.92-.59-1.43-.59-.52 0-1.04.2-1.43.59L10.3 9.45l-7.72 7.72c-.78.78-.78 2.05 0 2.83L4 21.41c.39.39.9.59 1.41.59.51 0 1.02-.2 1.41-.59l7.78-7.78 2.81-2.81c.8-.78.8-2.07 0-2.86zM5.41 20L4 18.59l7.72-7.72 1.47 1.35L5.41 20z\"/>\n",
              "  </svg>\n",
              "      </button>\n",
              "      \n",
              "  <style>\n",
              "    .colab-df-container {\n",
              "      display:flex;\n",
              "      flex-wrap:wrap;\n",
              "      gap: 12px;\n",
              "    }\n",
              "\n",
              "    .colab-df-convert {\n",
              "      background-color: #E8F0FE;\n",
              "      border: none;\n",
              "      border-radius: 50%;\n",
              "      cursor: pointer;\n",
              "      display: none;\n",
              "      fill: #1967D2;\n",
              "      height: 32px;\n",
              "      padding: 0 0 0 0;\n",
              "      width: 32px;\n",
              "    }\n",
              "\n",
              "    .colab-df-convert:hover {\n",
              "      background-color: #E2EBFA;\n",
              "      box-shadow: 0px 1px 2px rgba(60, 64, 67, 0.3), 0px 1px 3px 1px rgba(60, 64, 67, 0.15);\n",
              "      fill: #174EA6;\n",
              "    }\n",
              "\n",
              "    [theme=dark] .colab-df-convert {\n",
              "      background-color: #3B4455;\n",
              "      fill: #D2E3FC;\n",
              "    }\n",
              "\n",
              "    [theme=dark] .colab-df-convert:hover {\n",
              "      background-color: #434B5C;\n",
              "      box-shadow: 0px 1px 3px 1px rgba(0, 0, 0, 0.15);\n",
              "      filter: drop-shadow(0px 1px 2px rgba(0, 0, 0, 0.3));\n",
              "      fill: #FFFFFF;\n",
              "    }\n",
              "  </style>\n",
              "\n",
              "      <script>\n",
              "        const buttonEl =\n",
              "          document.querySelector('#df-a2177315-7fd5-4d78-9509-7a0543448c3e button.colab-df-convert');\n",
              "        buttonEl.style.display =\n",
              "          google.colab.kernel.accessAllowed ? 'block' : 'none';\n",
              "\n",
              "        async function convertToInteractive(key) {\n",
              "          const element = document.querySelector('#df-a2177315-7fd5-4d78-9509-7a0543448c3e');\n",
              "          const dataTable =\n",
              "            await google.colab.kernel.invokeFunction('convertToInteractive',\n",
              "                                                     [key], {});\n",
              "          if (!dataTable) return;\n",
              "\n",
              "          const docLinkHtml = 'Like what you see? Visit the ' +\n",
              "            '<a target=\"_blank\" href=https://colab.research.google.com/notebooks/data_table.ipynb>data table notebook</a>'\n",
              "            + ' to learn more about interactive tables.';\n",
              "          element.innerHTML = '';\n",
              "          dataTable['output_type'] = 'display_data';\n",
              "          await google.colab.output.renderOutput(dataTable, element);\n",
              "          const docLink = document.createElement('div');\n",
              "          docLink.innerHTML = docLinkHtml;\n",
              "          element.appendChild(docLink);\n",
              "        }\n",
              "      </script>\n",
              "    </div>\n",
              "  </div>\n",
              "  "
            ]
          },
          "metadata": {},
          "execution_count": 100
        }
      ]
    },
    {
      "cell_type": "markdown",
      "source": [
        "## Shape of original Dataset"
      ],
      "metadata": {
        "id": "jwSZS52WyDpU"
      }
    },
    {
      "cell_type": "code",
      "source": [
        "brands.shape"
      ],
      "metadata": {
        "colab": {
          "base_uri": "https://localhost:8080/"
        },
        "id": "BmO-DSUC_MM2",
        "outputId": "92c1a7d7-adf9-4833-a0f3-3f43797ff4ef"
      },
      "execution_count": 101,
      "outputs": [
        {
          "output_type": "execute_result",
          "data": {
            "text/plain": [
              "(1167, 9)"
            ]
          },
          "metadata": {},
          "execution_count": 101
        }
      ]
    },
    {
      "cell_type": "markdown",
      "source": [
        "## Category Frequency of original Dataset"
      ],
      "metadata": {
        "id": "7YEt6LcNyMMu"
      }
    },
    {
      "cell_type": "code",
      "source": [
        "brands.category.value_counts()"
      ],
      "metadata": {
        "colab": {
          "base_uri": "https://localhost:8080/"
        },
        "id": "d4D6oaCD_i3L",
        "outputId": "216976a7-14d8-43f6-ad18-3962ba133bf1"
      },
      "execution_count": 102,
      "outputs": [
        {
          "output_type": "execute_result",
          "data": {
            "text/plain": [
              "Baking                         369\n",
              "Beer Wine Spirits               90\n",
              "Snacks                          75\n",
              "Candy & Sweets                  71\n",
              "Beverages                       63\n",
              "Magazines                       44\n",
              "Health & Wellness               44\n",
              "Breakfast & Cereal              40\n",
              "Grocery                         39\n",
              "Dairy                           33\n",
              "Condiments & Sauces             27\n",
              "Frozen                          24\n",
              "Personal Care                   20\n",
              "Baby                            18\n",
              "Canned Goods & Soups            12\n",
              "Beauty                           9\n",
              "Cleaning & Home Improvement      6\n",
              "Deli                             6\n",
              "Beauty & Personal Care           6\n",
              "Household                        5\n",
              "Bread & Bakery                   5\n",
              "Dairy & Refrigerated             5\n",
              "Outdoor                          1\n",
              "Name: category, dtype: int64"
            ]
          },
          "metadata": {},
          "execution_count": 102
        }
      ]
    },
    {
      "cell_type": "markdown",
      "source": [
        "## Shape of test entries Dataset"
      ],
      "metadata": {
        "id": "Gkb91GFUyG_q"
      }
    },
    {
      "cell_type": "code",
      "source": [
        "brands_test.shape"
      ],
      "metadata": {
        "colab": {
          "base_uri": "https://localhost:8080/"
        },
        "id": "mG6tFJnA_MPD",
        "outputId": "0869de90-af70-4f45-ad02-f0d65b410910"
      },
      "execution_count": 103,
      "outputs": [
        {
          "output_type": "execute_result",
          "data": {
            "text/plain": [
              "(428, 9)"
            ]
          },
          "metadata": {},
          "execution_count": 103
        }
      ]
    },
    {
      "cell_type": "markdown",
      "source": [
        "## Category Frequency of test entries dataset"
      ],
      "metadata": {
        "id": "hZ4bfkJZyVVm"
      }
    },
    {
      "cell_type": "code",
      "source": [
        "brands_test.category.value_counts()"
      ],
      "metadata": {
        "colab": {
          "base_uri": "https://localhost:8080/"
        },
        "id": "F9mEdKyY_MRa",
        "outputId": "fb201cec-114a-4758-ad20-73921515f9cb"
      },
      "execution_count": 104,
      "outputs": [
        {
          "output_type": "execute_result",
          "data": {
            "text/plain": [
              "Baking            357\n",
              "Candy & Sweets     71\n",
              "Name: category, dtype: int64"
            ]
          },
          "metadata": {},
          "execution_count": 104
        }
      ]
    },
    {
      "cell_type": "code",
      "source": [
        "brands_new=pd.concat([brands,brands_test]).drop_duplicates(keep=False)"
      ],
      "metadata": {
        "id": "DY86X6EAFP1w"
      },
      "execution_count": 105,
      "outputs": []
    },
    {
      "cell_type": "markdown",
      "source": [
        "## Dataset with no test entries"
      ],
      "metadata": {
        "id": "GrNjY81XzXcX"
      }
    },
    {
      "cell_type": "code",
      "source": [
        "brands_new.head()"
      ],
      "metadata": {
        "colab": {
          "base_uri": "https://localhost:8080/",
          "height": 285
        },
        "id": "IWG56Y8SFP4R",
        "outputId": "78fd48a3-d41b-44c8-94b4-21dfbf6c19f5"
      },
      "execution_count": 106,
      "outputs": [
        {
          "output_type": "execute_result",
          "data": {
            "text/plain": [
              "                          id       barcode             brandCode  \\\n",
              "1   601c5460be37ce2ead43755f  511111519928             STARBUCKS   \n",
              "7   5cdad0f5166eb33eb7ce0faa  511111104810            J.L. KRAFT   \n",
              "8   5ab15636e4b0be0a89bb0b07  511111504412  CAMPBELLS HOME STYLE   \n",
              "9   5c408e8bcd244a1fdb47aee7  511111504788                  TEST   \n",
              "11  57c08106e4b0718ff5fcb02c  511111102540                   NaN   \n",
              "\n",
              "                category categoryCode                    cpg_id cpg_ref  \\\n",
              "1              Beverages    BEVERAGES  5332f5fbe4b03c9a25efd0ba    Cogs   \n",
              "7    Condiments & Sauces          NaN  559c2234e4b06aca36af13c6    Cogs   \n",
              "8   Canned Goods & Soups          NaN  5a734034e4b0d58f376be874    Cogs   \n",
              "9                 Baking          NaN  59ba6f1ce4b092b29c167346    Cogs   \n",
              "11                   NaN          NaN  5332f5f2e4b03c9a25efd0aa    Cpgs   \n",
              "\n",
              "                     name topBrand  \n",
              "1               Starbucks    False  \n",
              "7              J.L. Kraft      NaN  \n",
              "8   Campbell's Home Style    False  \n",
              "9                    test      NaN  \n",
              "11            MorningStar      NaN  "
            ],
            "text/html": [
              "\n",
              "  <div id=\"df-2e263c3b-795b-434f-befc-c537f280cd3b\">\n",
              "    <div class=\"colab-df-container\">\n",
              "      <div>\n",
              "<style scoped>\n",
              "    .dataframe tbody tr th:only-of-type {\n",
              "        vertical-align: middle;\n",
              "    }\n",
              "\n",
              "    .dataframe tbody tr th {\n",
              "        vertical-align: top;\n",
              "    }\n",
              "\n",
              "    .dataframe thead th {\n",
              "        text-align: right;\n",
              "    }\n",
              "</style>\n",
              "<table border=\"1\" class=\"dataframe\">\n",
              "  <thead>\n",
              "    <tr style=\"text-align: right;\">\n",
              "      <th></th>\n",
              "      <th>id</th>\n",
              "      <th>barcode</th>\n",
              "      <th>brandCode</th>\n",
              "      <th>category</th>\n",
              "      <th>categoryCode</th>\n",
              "      <th>cpg_id</th>\n",
              "      <th>cpg_ref</th>\n",
              "      <th>name</th>\n",
              "      <th>topBrand</th>\n",
              "    </tr>\n",
              "  </thead>\n",
              "  <tbody>\n",
              "    <tr>\n",
              "      <th>1</th>\n",
              "      <td>601c5460be37ce2ead43755f</td>\n",
              "      <td>511111519928</td>\n",
              "      <td>STARBUCKS</td>\n",
              "      <td>Beverages</td>\n",
              "      <td>BEVERAGES</td>\n",
              "      <td>5332f5fbe4b03c9a25efd0ba</td>\n",
              "      <td>Cogs</td>\n",
              "      <td>Starbucks</td>\n",
              "      <td>False</td>\n",
              "    </tr>\n",
              "    <tr>\n",
              "      <th>7</th>\n",
              "      <td>5cdad0f5166eb33eb7ce0faa</td>\n",
              "      <td>511111104810</td>\n",
              "      <td>J.L. KRAFT</td>\n",
              "      <td>Condiments &amp; Sauces</td>\n",
              "      <td>NaN</td>\n",
              "      <td>559c2234e4b06aca36af13c6</td>\n",
              "      <td>Cogs</td>\n",
              "      <td>J.L. Kraft</td>\n",
              "      <td>NaN</td>\n",
              "    </tr>\n",
              "    <tr>\n",
              "      <th>8</th>\n",
              "      <td>5ab15636e4b0be0a89bb0b07</td>\n",
              "      <td>511111504412</td>\n",
              "      <td>CAMPBELLS HOME STYLE</td>\n",
              "      <td>Canned Goods &amp; Soups</td>\n",
              "      <td>NaN</td>\n",
              "      <td>5a734034e4b0d58f376be874</td>\n",
              "      <td>Cogs</td>\n",
              "      <td>Campbell's Home Style</td>\n",
              "      <td>False</td>\n",
              "    </tr>\n",
              "    <tr>\n",
              "      <th>9</th>\n",
              "      <td>5c408e8bcd244a1fdb47aee7</td>\n",
              "      <td>511111504788</td>\n",
              "      <td>TEST</td>\n",
              "      <td>Baking</td>\n",
              "      <td>NaN</td>\n",
              "      <td>59ba6f1ce4b092b29c167346</td>\n",
              "      <td>Cogs</td>\n",
              "      <td>test</td>\n",
              "      <td>NaN</td>\n",
              "    </tr>\n",
              "    <tr>\n",
              "      <th>11</th>\n",
              "      <td>57c08106e4b0718ff5fcb02c</td>\n",
              "      <td>511111102540</td>\n",
              "      <td>NaN</td>\n",
              "      <td>NaN</td>\n",
              "      <td>NaN</td>\n",
              "      <td>5332f5f2e4b03c9a25efd0aa</td>\n",
              "      <td>Cpgs</td>\n",
              "      <td>MorningStar</td>\n",
              "      <td>NaN</td>\n",
              "    </tr>\n",
              "  </tbody>\n",
              "</table>\n",
              "</div>\n",
              "      <button class=\"colab-df-convert\" onclick=\"convertToInteractive('df-2e263c3b-795b-434f-befc-c537f280cd3b')\"\n",
              "              title=\"Convert this dataframe to an interactive table.\"\n",
              "              style=\"display:none;\">\n",
              "        \n",
              "  <svg xmlns=\"http://www.w3.org/2000/svg\" height=\"24px\"viewBox=\"0 0 24 24\"\n",
              "       width=\"24px\">\n",
              "    <path d=\"M0 0h24v24H0V0z\" fill=\"none\"/>\n",
              "    <path d=\"M18.56 5.44l.94 2.06.94-2.06 2.06-.94-2.06-.94-.94-2.06-.94 2.06-2.06.94zm-11 1L8.5 8.5l.94-2.06 2.06-.94-2.06-.94L8.5 2.5l-.94 2.06-2.06.94zm10 10l.94 2.06.94-2.06 2.06-.94-2.06-.94-.94-2.06-.94 2.06-2.06.94z\"/><path d=\"M17.41 7.96l-1.37-1.37c-.4-.4-.92-.59-1.43-.59-.52 0-1.04.2-1.43.59L10.3 9.45l-7.72 7.72c-.78.78-.78 2.05 0 2.83L4 21.41c.39.39.9.59 1.41.59.51 0 1.02-.2 1.41-.59l7.78-7.78 2.81-2.81c.8-.78.8-2.07 0-2.86zM5.41 20L4 18.59l7.72-7.72 1.47 1.35L5.41 20z\"/>\n",
              "  </svg>\n",
              "      </button>\n",
              "      \n",
              "  <style>\n",
              "    .colab-df-container {\n",
              "      display:flex;\n",
              "      flex-wrap:wrap;\n",
              "      gap: 12px;\n",
              "    }\n",
              "\n",
              "    .colab-df-convert {\n",
              "      background-color: #E8F0FE;\n",
              "      border: none;\n",
              "      border-radius: 50%;\n",
              "      cursor: pointer;\n",
              "      display: none;\n",
              "      fill: #1967D2;\n",
              "      height: 32px;\n",
              "      padding: 0 0 0 0;\n",
              "      width: 32px;\n",
              "    }\n",
              "\n",
              "    .colab-df-convert:hover {\n",
              "      background-color: #E2EBFA;\n",
              "      box-shadow: 0px 1px 2px rgba(60, 64, 67, 0.3), 0px 1px 3px 1px rgba(60, 64, 67, 0.15);\n",
              "      fill: #174EA6;\n",
              "    }\n",
              "\n",
              "    [theme=dark] .colab-df-convert {\n",
              "      background-color: #3B4455;\n",
              "      fill: #D2E3FC;\n",
              "    }\n",
              "\n",
              "    [theme=dark] .colab-df-convert:hover {\n",
              "      background-color: #434B5C;\n",
              "      box-shadow: 0px 1px 3px 1px rgba(0, 0, 0, 0.15);\n",
              "      filter: drop-shadow(0px 1px 2px rgba(0, 0, 0, 0.3));\n",
              "      fill: #FFFFFF;\n",
              "    }\n",
              "  </style>\n",
              "\n",
              "      <script>\n",
              "        const buttonEl =\n",
              "          document.querySelector('#df-2e263c3b-795b-434f-befc-c537f280cd3b button.colab-df-convert');\n",
              "        buttonEl.style.display =\n",
              "          google.colab.kernel.accessAllowed ? 'block' : 'none';\n",
              "\n",
              "        async function convertToInteractive(key) {\n",
              "          const element = document.querySelector('#df-2e263c3b-795b-434f-befc-c537f280cd3b');\n",
              "          const dataTable =\n",
              "            await google.colab.kernel.invokeFunction('convertToInteractive',\n",
              "                                                     [key], {});\n",
              "          if (!dataTable) return;\n",
              "\n",
              "          const docLinkHtml = 'Like what you see? Visit the ' +\n",
              "            '<a target=\"_blank\" href=https://colab.research.google.com/notebooks/data_table.ipynb>data table notebook</a>'\n",
              "            + ' to learn more about interactive tables.';\n",
              "          element.innerHTML = '';\n",
              "          dataTable['output_type'] = 'display_data';\n",
              "          await google.colab.output.renderOutput(dataTable, element);\n",
              "          const docLink = document.createElement('div');\n",
              "          docLink.innerHTML = docLinkHtml;\n",
              "          element.appendChild(docLink);\n",
              "        }\n",
              "      </script>\n",
              "    </div>\n",
              "  </div>\n",
              "  "
            ]
          },
          "metadata": {},
          "execution_count": 106
        }
      ]
    },
    {
      "cell_type": "markdown",
      "source": [
        "## Shape of dataset with no test entries"
      ],
      "metadata": {
        "id": "oOy2scmrzdnR"
      }
    },
    {
      "cell_type": "code",
      "source": [
        "brands_new.shape"
      ],
      "metadata": {
        "colab": {
          "base_uri": "https://localhost:8080/"
        },
        "id": "oDWTH6i4FP65",
        "outputId": "fa4a41f3-1d52-4fa2-8460-923ed336da5d"
      },
      "execution_count": 107,
      "outputs": [
        {
          "output_type": "execute_result",
          "data": {
            "text/plain": [
              "(739, 9)"
            ]
          },
          "metadata": {},
          "execution_count": 107
        }
      ]
    },
    {
      "cell_type": "markdown",
      "source": [
        "## Category Frequency of Dataset with no test entries"
      ],
      "metadata": {
        "id": "pPusrITjzh53"
      }
    },
    {
      "cell_type": "code",
      "source": [
        "brands_new.category.value_counts()"
      ],
      "metadata": {
        "colab": {
          "base_uri": "https://localhost:8080/"
        },
        "id": "mfjj1Xp9_MTk",
        "outputId": "e14b15d2-a55f-4568-d327-e15eaabbed49"
      },
      "execution_count": 108,
      "outputs": [
        {
          "output_type": "execute_result",
          "data": {
            "text/plain": [
              "Beer Wine Spirits              90\n",
              "Snacks                         75\n",
              "Beverages                      63\n",
              "Health & Wellness              44\n",
              "Magazines                      44\n",
              "Breakfast & Cereal             40\n",
              "Grocery                        39\n",
              "Dairy                          33\n",
              "Condiments & Sauces            27\n",
              "Frozen                         24\n",
              "Personal Care                  20\n",
              "Baby                           18\n",
              "Baking                         12\n",
              "Canned Goods & Soups           12\n",
              "Beauty                          9\n",
              "Cleaning & Home Improvement     6\n",
              "Deli                            6\n",
              "Beauty & Personal Care          6\n",
              "Household                       5\n",
              "Bread & Bakery                  5\n",
              "Dairy & Refrigerated            5\n",
              "Outdoor                         1\n",
              "Name: category, dtype: int64"
            ]
          },
          "metadata": {},
          "execution_count": 108
        }
      ]
    },
    {
      "cell_type": "markdown",
      "source": [
        "# Issue 5 :  Columns have mixed datatypes in Brands table "
      ],
      "metadata": {
        "id": "nzHE3F3xzwC0"
      }
    },
    {
      "cell_type": "markdown",
      "source": [
        "## Columns having numeric brandCode values have most values similar to barcode"
      ],
      "metadata": {
        "id": "ZTu0dfpy4Vqo"
      }
    },
    {
      "cell_type": "code",
      "source": [
        "brands[brands.brandCode.str.isnumeric()==True][:10]"
      ],
      "metadata": {
        "colab": {
          "base_uri": "https://localhost:8080/",
          "height": 407
        },
        "id": "oVKYOrsyRL17",
        "outputId": "34b98879-b47f-4773-c6b7-46cfad2d0814"
      },
      "execution_count": 109,
      "outputs": [
        {
          "output_type": "execute_result",
          "data": {
            "text/plain": [
              "                           id       barcode     brandCode           category  \\\n",
              "13   5d6413156d5f3b23d1bc790a  511111205012  511111205012          Magazines   \n",
              "27   5d66d71fa3a018093ab34728  511111105329  511111105329          Magazines   \n",
              "44   5d66d94d6d5f3b6188d4f04b  511111505365  511111505365          Magazines   \n",
              "64   5da609991dda2c3e1416ae90  511111805854  511111805854  Health & Wellness   \n",
              "134  5da60576a60b87376833e349  511111305569  511111305569  Health & Wellness   \n",
              "137  5da608131dda2c3e1416ae8a  511111505716  511111505716  Health & Wellness   \n",
              "143  5d658ff3a3a018514994f432  511111005216  511111005216          Magazines   \n",
              "149  5d642dbfa3a018514994f42e  511111005148  511111005148          Magazines   \n",
              "152  5c45f91b87ff3552f950f027  511111204923    0987654321            Grocery   \n",
              "164  5da6094ca60b87376833e357  511111605829  511111605829  Health & Wellness   \n",
              "\n",
              "    categoryCode                    cpg_id cpg_ref                       name  \\\n",
              "13           NaN  5d5d4fd16d5f3b23d1bc7905    Cogs       Entertainment Weekly   \n",
              "27           NaN  5d5d4fd16d5f3b23d1bc7905    Cogs     Elegant Homes Magazine   \n",
              "44           NaN  5d5d4fd16d5f3b23d1bc7905    Cogs  Magnolia Journal Magazine   \n",
              "64           NaN  53e10d6368abd3c7065097cc    Cogs          ONE A DAY® WOMENS   \n",
              "134          NaN  53e10d6368abd3c7065097cc    Cogs  AFRIN® NO DRIP PUMP MISTS   \n",
              "137          NaN  53e10d6368abd3c7065097cc    Cogs           Claritin® ADULTS   \n",
              "143          NaN  53e10d6368abd3c7065097cc    Cogs     Cooking Light Magazine   \n",
              "149          NaN  5d5d4fd16d5f3b23d1bc7905    Cogs                      Shape   \n",
              "152          NaN  5c45f8b087ff3552f950f026    Cogs                     Brand1   \n",
              "164          NaN  53e10d6368abd3c7065097cc    Cogs            ONE A DAY® MENS   \n",
              "\n",
              "    topBrand  \n",
              "13       NaN  \n",
              "27       NaN  \n",
              "44       NaN  \n",
              "64     False  \n",
              "134      NaN  \n",
              "137      NaN  \n",
              "143      NaN  \n",
              "149      NaN  \n",
              "152     True  \n",
              "164      NaN  "
            ],
            "text/html": [
              "\n",
              "  <div id=\"df-802a2b30-0a8c-4d45-aa33-f22972467e02\">\n",
              "    <div class=\"colab-df-container\">\n",
              "      <div>\n",
              "<style scoped>\n",
              "    .dataframe tbody tr th:only-of-type {\n",
              "        vertical-align: middle;\n",
              "    }\n",
              "\n",
              "    .dataframe tbody tr th {\n",
              "        vertical-align: top;\n",
              "    }\n",
              "\n",
              "    .dataframe thead th {\n",
              "        text-align: right;\n",
              "    }\n",
              "</style>\n",
              "<table border=\"1\" class=\"dataframe\">\n",
              "  <thead>\n",
              "    <tr style=\"text-align: right;\">\n",
              "      <th></th>\n",
              "      <th>id</th>\n",
              "      <th>barcode</th>\n",
              "      <th>brandCode</th>\n",
              "      <th>category</th>\n",
              "      <th>categoryCode</th>\n",
              "      <th>cpg_id</th>\n",
              "      <th>cpg_ref</th>\n",
              "      <th>name</th>\n",
              "      <th>topBrand</th>\n",
              "    </tr>\n",
              "  </thead>\n",
              "  <tbody>\n",
              "    <tr>\n",
              "      <th>13</th>\n",
              "      <td>5d6413156d5f3b23d1bc790a</td>\n",
              "      <td>511111205012</td>\n",
              "      <td>511111205012</td>\n",
              "      <td>Magazines</td>\n",
              "      <td>NaN</td>\n",
              "      <td>5d5d4fd16d5f3b23d1bc7905</td>\n",
              "      <td>Cogs</td>\n",
              "      <td>Entertainment Weekly</td>\n",
              "      <td>NaN</td>\n",
              "    </tr>\n",
              "    <tr>\n",
              "      <th>27</th>\n",
              "      <td>5d66d71fa3a018093ab34728</td>\n",
              "      <td>511111105329</td>\n",
              "      <td>511111105329</td>\n",
              "      <td>Magazines</td>\n",
              "      <td>NaN</td>\n",
              "      <td>5d5d4fd16d5f3b23d1bc7905</td>\n",
              "      <td>Cogs</td>\n",
              "      <td>Elegant Homes Magazine</td>\n",
              "      <td>NaN</td>\n",
              "    </tr>\n",
              "    <tr>\n",
              "      <th>44</th>\n",
              "      <td>5d66d94d6d5f3b6188d4f04b</td>\n",
              "      <td>511111505365</td>\n",
              "      <td>511111505365</td>\n",
              "      <td>Magazines</td>\n",
              "      <td>NaN</td>\n",
              "      <td>5d5d4fd16d5f3b23d1bc7905</td>\n",
              "      <td>Cogs</td>\n",
              "      <td>Magnolia Journal Magazine</td>\n",
              "      <td>NaN</td>\n",
              "    </tr>\n",
              "    <tr>\n",
              "      <th>64</th>\n",
              "      <td>5da609991dda2c3e1416ae90</td>\n",
              "      <td>511111805854</td>\n",
              "      <td>511111805854</td>\n",
              "      <td>Health &amp; Wellness</td>\n",
              "      <td>NaN</td>\n",
              "      <td>53e10d6368abd3c7065097cc</td>\n",
              "      <td>Cogs</td>\n",
              "      <td>ONE A DAY® WOMENS</td>\n",
              "      <td>False</td>\n",
              "    </tr>\n",
              "    <tr>\n",
              "      <th>134</th>\n",
              "      <td>5da60576a60b87376833e349</td>\n",
              "      <td>511111305569</td>\n",
              "      <td>511111305569</td>\n",
              "      <td>Health &amp; Wellness</td>\n",
              "      <td>NaN</td>\n",
              "      <td>53e10d6368abd3c7065097cc</td>\n",
              "      <td>Cogs</td>\n",
              "      <td>AFRIN® NO DRIP PUMP MISTS</td>\n",
              "      <td>NaN</td>\n",
              "    </tr>\n",
              "    <tr>\n",
              "      <th>137</th>\n",
              "      <td>5da608131dda2c3e1416ae8a</td>\n",
              "      <td>511111505716</td>\n",
              "      <td>511111505716</td>\n",
              "      <td>Health &amp; Wellness</td>\n",
              "      <td>NaN</td>\n",
              "      <td>53e10d6368abd3c7065097cc</td>\n",
              "      <td>Cogs</td>\n",
              "      <td>Claritin® ADULTS</td>\n",
              "      <td>NaN</td>\n",
              "    </tr>\n",
              "    <tr>\n",
              "      <th>143</th>\n",
              "      <td>5d658ff3a3a018514994f432</td>\n",
              "      <td>511111005216</td>\n",
              "      <td>511111005216</td>\n",
              "      <td>Magazines</td>\n",
              "      <td>NaN</td>\n",
              "      <td>53e10d6368abd3c7065097cc</td>\n",
              "      <td>Cogs</td>\n",
              "      <td>Cooking Light Magazine</td>\n",
              "      <td>NaN</td>\n",
              "    </tr>\n",
              "    <tr>\n",
              "      <th>149</th>\n",
              "      <td>5d642dbfa3a018514994f42e</td>\n",
              "      <td>511111005148</td>\n",
              "      <td>511111005148</td>\n",
              "      <td>Magazines</td>\n",
              "      <td>NaN</td>\n",
              "      <td>5d5d4fd16d5f3b23d1bc7905</td>\n",
              "      <td>Cogs</td>\n",
              "      <td>Shape</td>\n",
              "      <td>NaN</td>\n",
              "    </tr>\n",
              "    <tr>\n",
              "      <th>152</th>\n",
              "      <td>5c45f91b87ff3552f950f027</td>\n",
              "      <td>511111204923</td>\n",
              "      <td>0987654321</td>\n",
              "      <td>Grocery</td>\n",
              "      <td>NaN</td>\n",
              "      <td>5c45f8b087ff3552f950f026</td>\n",
              "      <td>Cogs</td>\n",
              "      <td>Brand1</td>\n",
              "      <td>True</td>\n",
              "    </tr>\n",
              "    <tr>\n",
              "      <th>164</th>\n",
              "      <td>5da6094ca60b87376833e357</td>\n",
              "      <td>511111605829</td>\n",
              "      <td>511111605829</td>\n",
              "      <td>Health &amp; Wellness</td>\n",
              "      <td>NaN</td>\n",
              "      <td>53e10d6368abd3c7065097cc</td>\n",
              "      <td>Cogs</td>\n",
              "      <td>ONE A DAY® MENS</td>\n",
              "      <td>NaN</td>\n",
              "    </tr>\n",
              "  </tbody>\n",
              "</table>\n",
              "</div>\n",
              "      <button class=\"colab-df-convert\" onclick=\"convertToInteractive('df-802a2b30-0a8c-4d45-aa33-f22972467e02')\"\n",
              "              title=\"Convert this dataframe to an interactive table.\"\n",
              "              style=\"display:none;\">\n",
              "        \n",
              "  <svg xmlns=\"http://www.w3.org/2000/svg\" height=\"24px\"viewBox=\"0 0 24 24\"\n",
              "       width=\"24px\">\n",
              "    <path d=\"M0 0h24v24H0V0z\" fill=\"none\"/>\n",
              "    <path d=\"M18.56 5.44l.94 2.06.94-2.06 2.06-.94-2.06-.94-.94-2.06-.94 2.06-2.06.94zm-11 1L8.5 8.5l.94-2.06 2.06-.94-2.06-.94L8.5 2.5l-.94 2.06-2.06.94zm10 10l.94 2.06.94-2.06 2.06-.94-2.06-.94-.94-2.06-.94 2.06-2.06.94z\"/><path d=\"M17.41 7.96l-1.37-1.37c-.4-.4-.92-.59-1.43-.59-.52 0-1.04.2-1.43.59L10.3 9.45l-7.72 7.72c-.78.78-.78 2.05 0 2.83L4 21.41c.39.39.9.59 1.41.59.51 0 1.02-.2 1.41-.59l7.78-7.78 2.81-2.81c.8-.78.8-2.07 0-2.86zM5.41 20L4 18.59l7.72-7.72 1.47 1.35L5.41 20z\"/>\n",
              "  </svg>\n",
              "      </button>\n",
              "      \n",
              "  <style>\n",
              "    .colab-df-container {\n",
              "      display:flex;\n",
              "      flex-wrap:wrap;\n",
              "      gap: 12px;\n",
              "    }\n",
              "\n",
              "    .colab-df-convert {\n",
              "      background-color: #E8F0FE;\n",
              "      border: none;\n",
              "      border-radius: 50%;\n",
              "      cursor: pointer;\n",
              "      display: none;\n",
              "      fill: #1967D2;\n",
              "      height: 32px;\n",
              "      padding: 0 0 0 0;\n",
              "      width: 32px;\n",
              "    }\n",
              "\n",
              "    .colab-df-convert:hover {\n",
              "      background-color: #E2EBFA;\n",
              "      box-shadow: 0px 1px 2px rgba(60, 64, 67, 0.3), 0px 1px 3px 1px rgba(60, 64, 67, 0.15);\n",
              "      fill: #174EA6;\n",
              "    }\n",
              "\n",
              "    [theme=dark] .colab-df-convert {\n",
              "      background-color: #3B4455;\n",
              "      fill: #D2E3FC;\n",
              "    }\n",
              "\n",
              "    [theme=dark] .colab-df-convert:hover {\n",
              "      background-color: #434B5C;\n",
              "      box-shadow: 0px 1px 3px 1px rgba(0, 0, 0, 0.15);\n",
              "      filter: drop-shadow(0px 1px 2px rgba(0, 0, 0, 0.3));\n",
              "      fill: #FFFFFF;\n",
              "    }\n",
              "  </style>\n",
              "\n",
              "      <script>\n",
              "        const buttonEl =\n",
              "          document.querySelector('#df-802a2b30-0a8c-4d45-aa33-f22972467e02 button.colab-df-convert');\n",
              "        buttonEl.style.display =\n",
              "          google.colab.kernel.accessAllowed ? 'block' : 'none';\n",
              "\n",
              "        async function convertToInteractive(key) {\n",
              "          const element = document.querySelector('#df-802a2b30-0a8c-4d45-aa33-f22972467e02');\n",
              "          const dataTable =\n",
              "            await google.colab.kernel.invokeFunction('convertToInteractive',\n",
              "                                                     [key], {});\n",
              "          if (!dataTable) return;\n",
              "\n",
              "          const docLinkHtml = 'Like what you see? Visit the ' +\n",
              "            '<a target=\"_blank\" href=https://colab.research.google.com/notebooks/data_table.ipynb>data table notebook</a>'\n",
              "            + ' to learn more about interactive tables.';\n",
              "          element.innerHTML = '';\n",
              "          dataTable['output_type'] = 'display_data';\n",
              "          await google.colab.output.renderOutput(dataTable, element);\n",
              "          const docLink = document.createElement('div');\n",
              "          docLink.innerHTML = docLinkHtml;\n",
              "          element.appendChild(docLink);\n",
              "        }\n",
              "      </script>\n",
              "    </div>\n",
              "  </div>\n",
              "  "
            ]
          },
          "metadata": {},
          "execution_count": 109
        }
      ]
    },
    {
      "cell_type": "markdown",
      "source": [
        "# Reading Receipts data"
      ],
      "metadata": {
        "id": "fFglbj5O5CeL"
      }
    },
    {
      "cell_type": "markdown",
      "source": [
        "## ISSUE 6 : Receipts data has rewardsreceiptItemsList which has nested column violating 1NF or atomicity"
      ],
      "metadata": {
        "id": "26pEge3H5Pc3"
      }
    },
    {
      "cell_type": "code",
      "source": [
        "receipts = pd.read_csv('receipts.csv')\n",
        "receipts.head()"
      ],
      "metadata": {
        "colab": {
          "base_uri": "https://localhost:8080/",
          "height": 404
        },
        "id": "M6OJ8ZPIzj6H",
        "outputId": "30bf223e-4e77-423b-e582-ee0b7ecf1cb1"
      },
      "execution_count": 110,
      "outputs": [
        {
          "output_type": "stream",
          "name": "stderr",
          "text": [
            "/usr/local/lib/python3.7/dist-packages/IPython/core/interactiveshell.py:3326: DtypeWarning: Columns (11,15,17,20,26,27,30,31,33,34,35,37,38,40,41,45,46,47,48,49,50,51,55,62,67,69,70,73,78,80,81,84,89,91,92,95,100,102,103,106,111,113,114,117,122,124,125,128,133,135,136,139,144,146,147,149,150,151,152,154,155,158,159,160,162,163,166,167,168,170,171,174,175,176,178,179,182,183,184,186,187,190,191,192,194,195,198,199,200,202,203,206,207,208,210,211,214,215,217,219,220,224,231,236,239,241,242,243,245,248,252,254,255,257,259,260,261,263,264,266,267,268,269,271,272,273,274,275,276,277,279,280,281,283,284,285,286,287,288,290,292,293,295,297,298,302,305,306,310,313,314,318,321,325,329,330,334,337,339,340,344,347,349,350,354,358,359,363,364,366,367,369,370,372,376,379,383,387,391,395,396,400,403,404,408,412,413,414,418,421,422,424,425,429,432,433,437,441,442,446,449,453,457,458,462,465,467,468,469,470,474,477,478,479,480,484,488,489,493,496,497,501,505,506,507,511,514,515,516,520,524,525,526,530,533,535,537,538,542,543,546,548,549,551,552,553,557,560,562,563,567,570,571,575,579,580,584,585,588,589,591,592,596,599,603,607,611,614,615,619,623,624,628,629,632,633,634,635,639,643,647,650,654,658,662,665,669,673,674,678,682,683,687,691,692,696,699,700,704,707,708,712,716,717,721,724,728,731,732,736,740,741,742,746,749,750,752,753,754,755,759,762,763,765,766,770,773,774,778,782,783,787,791,792,796,799,800,804,808,809,810,814,817,818,820,821,825,826,829,831,832,834,835,839,842,843,847,851,852,853,857,860,861,862,866,870,871,875,876,879,880,882,883,884,888,889,892,893,895,896,900,903,907,910,911,915,918,922,926,927,931,934,935,939,942,946,949,953,957,958,959,963,967,968,972,975,976,977,981,985,986,987,991,993,994,996,998,999,1000,1004,1007,1008,1009,1013,1017,1018,1022,1025,1026,1030,1034,1035,1036,1040,1043,1044,1045,1046,1050,1054,1055,1056,1060,1062,1063,1065,1067,1068,1072,1075,1076,1080,1083,1087,1091,1092,1096,1100,1101,1102,1106,1109,1110,1111,1113,1115,1116,1117,1119,1120,1121,1122,1123,1124,1125,1126,1127,1128,1130,1131,1132,1133,1134,1135,1137,1138,1139,1141,1142,1143,1145,1146,1148,1149,1151,1152,1153,1154,1155,1156,1158,1159,1160,1161,1162,1163,1164,1165,1168,1169,1170,1172,1173,1174,1175,1176,1177,1179,1180,1182,1183,1185,1186,1187,1188,1190,1191,1192,1193,1194,1196,1198,1199,1200,1202,1203,1204,1205,1206,1208,1209,1210,1211,1212,1213,1217,1221,1222,1223,1227,1229,1230,1232,1234,1235,1239,1242,1243,1247,1250,1254,1257,1261,1265,1266,1267,1271,1274,1276,1277,1281,1282,1285,1287,1288,1290,1291,1295,1296,1299,1301,1302,1304,1305,1309,1310,1313,1315,1316,1318,1319,1323,1324,1327,1329,1330,1331,1335,1339,1340,1344,1345,1348,1350,1351,1353,1354,1358,1359,1362,1364,1365,1367,1368,1372,1373,1376,1378,1379,1381,1382,1386,1387,1390,1392,1393,1395,1396,1400,1401,1404,1406,1407,1408,1412,1416,1417,1421,1422,1425,1427,1428,1429,1433,1436,1440,1443,1447,1450,1454,1457,1461,1464,1468,1471,1475,1479,1480,1484,1485,1487,1488,1490,1491,1493,1494,1498,1502,1503,1507,1508,1511,1513,1514,1515,1519,1522,1526,1529,1533,1536,1540,1543,1547,1550,1554,1557,1561,1565,1566,1570,1571,1574,1576,1577,1579,1580,1584,1585,1588,1590,1591,1593,1594,1598,1601,1605,1609,1610,1614,1615,1617,1618,1620,1621,1622,1626,1630,1632,1633,1634,1635,1636,1637,1638,1639,1641,1642,1644,1645,1646,1647,1648,1650,1652,1653,1655,1656,1657,1658,1660,1662,1663,1664,1666,1668,1670,1671,1672,1673,1674,1675,1676,1678,1679,1680,1681,1682,1683,1684,1685,1686,1687,1689,1691,1693,1694,1695,1696,1697,1698,1699,1700,1701,1703,1704,1705,1707,1708,1710,1711,1712,1713,1714,1715,1716,1718,1719,1720,1721,1722,1723,1724,1725,1727,1728,1729,1731,1732,1733,1734,1735,1736,1738,1739,1741,1742,1743,1745,1746,1748,1749,1750,1805,1806,1823,1830,1832,1833,1835,1837,1840,1843,1845,1846,1847,1849,1869,1879,1881,1883,1884,1894,1896,1898,1899,1901,1902,1904,1906,1907,1916,1921,1922,1924,1926,1927,1929,1930,1931,1932,1934,1935,1941,1942,1944,1946,1947,1951,1952,1956,1957,1960,1963,1964,1966,1967,1971,1972,1975,1978,1979,1981,1982,1986,1987,1989,1990,1993,1994,1995,1999,2003,2007,2012,2013,2017,2018,2020,2021,2024,2025,2026,2030,2034,2038,2042,2046,2050,2054,2058,2062,2066,2070,2074,2078,2082,2086,2090,2094,2099,2100,2104,2105,2108,2111,2112,2113,2117,2122,2123,2127,2128,2131,2134,2135,2136,2140,2144,2148,2153,2154,2158,2159,2161,2162,2165,2166,2167,2171,2175,2179,2184,2185,2189,2190,2192,2193,2196,2197,2199,2200,2204,2205,2208,2211,2212,2214,2215,2219,2220,2222,2223,2226,2227,2228,2232,2236,2240,2245,2246,2250,2251,2253,2254,2257,2258,2259,2263,2267,2271,2275,2279,2283,2287,2291,2295,2299,2303,2307,2311,2315,2319,2324,2325,2329,2330,2332,2333,2336,2337,2338,2342,2346,2350,2355,2356,2360,2361,2364,2367,2368,2369,2373,2378,2379,2383,2384,2386,2387,2390,2391,2393,2394,2398,2399,2401,2402,2405,2406,2408,2409,2410,2411,2412,2413,2415,2416,2417,2418,2419,2420,2421,2422,2424,2425,2426,2427,2428,2429,2431,2432,2433,2434,2435,2436,2437,2438,2439,2441,2443,2444,2445,2446,2447,2448,2450,2451,2453,2454,2455,2456,2458,2459,2460,2462,2463,2464,2465,2466,2467,2469,2470,2472,2473,2474,2476,2477,2479,2480,2481,2482,2485,2486,2488,2489,2490,2492,2494,2495,2496,2497,2498,2499,2501,2502,2503,2504,2505,2507,2508,2509,2511,2512,2513,2514,2515,2516,2518,2519,2520,2521,2522,2523,2525,2526,2528,2529,2530,2532,2533,2534,2535,2536,2537,2539,2540,2542,2543,2544,2546,2547,2548,2549,2550,2551,2553,2554,2556,2557,2558,2560,2561,2563,2564,2565,2567,2568,2569,2570,2571,2572,2573,2575,2576,2577,2578,2579,2580,2582,2583,2585,2586,2587,2589,2590,2591,2592,2593,2594,2596,2597,2599,2600,2601,2603,2604,2606,2607,2608,2611,2612,2613,2614,2615,2616,2618,2619,2621,2622,2623,2625,2626,2627,2628,2629,2630,2632,2633,2634,2635,2636,2637,2639,2640,2642,2643,2644,2646,2648,2649,2650,2651,2652,2653,2656,2657,2659,2660,2661,2663,2664,2666,2667,2668,2669,2671,2672,2674,2675,2676,2700,2703,2717,2722,2725,2726,2729,2732,2733,2734,2737,2738,2742,2743,2744,2745,2753,2756,2761,2772,2773,2774,2775,2776,2777,2778,2779,2780,2782,2783,2784,2785,2786,2787,2788,2790,2791,2794,2795,2796,2797,2798,2799,2800,2801,2802,2804,2805,2806,2807,2808,2810,2811,2812,2813,2814,2815,2816,2817,2819,2823,2826,2830,2834,2838,2841,2842,2846,2849,2853,2856,2857,2861,2864,2865,2869,2872,2873,2877,2880,2884,2887,2889,2890,2891,2892,2893,2894,2895,2897,2898,2899,2900,2901,2902,2903,2904,2905,2906,2907,2908,2909,2910,2911,2912,2913,2914,2915,2916,2917,2918,2919,2920,2921,2922,2923,2924,2926,2928,2929,2930,2932,2933,2934,2935,2936,2937,2938,2939,2940,2941,2942,2944,2945,2946,2947,2948,2949,2950,2951,2952,2953,2954,2956,2957,2958,2959,2961,2962,2963,2965,2966,2967,2968,2969,2970,2971,2972,2974,2975,2976,2978,2979,2981,2982,2983,2985,2986,2987,2988,2989,2990,2991,2992,2994,2995,2996,2998,2999,3000,3002,3003,3004,3006,3007,3008,3009,3010,3011,3013,3014,3015,3016,3018,3019,3020,3021,3022,3023,3024,3026,3027,3028,3029,3031,3032,3033,3034,3036,3037,3038,3039,3040,3041,3042,3043,3044,3046,3047,3048,3049,3050,3051,3052,3053,3054,3056,3057,3058,3059,3060,3061,3062,3063,3065,3066,3068,3070,3071,3072,3074,3075,3076,3077,3079,3080,3081,3082,3085,3087,3088,3089,3090,3092,3094,3096,3097,3098,3099,3100,3102,3103,3105,3106,3107,3110,3111,3112,3113,3114,3115,3116,3118,3119,3120,3121,3123,3125,3126,3127,3128,3129,3130,3131,3132,3134,3135,3136,3137,3138,3139,3141,3142,3146,3147,3149,3150,3151,3153,3154,3155,3157,3158,3159,3161,3162,3163,3165,3167,3169,3171,3173,3174,3175,3176,3177,3179,3181,3184,3185,3187,3188,3190,3192,3193,3195,3197,3198,3199,3200,3201,3202,3203,3204,3205,3207,3208,3209,3210,3211,3212,3213,3214,3215,3216,3217,3218,3219,3220,3221,3222,3223,3224,3225,3226,3227,3228,3229,3230,3231,3233,3234,3235,3236,3237,3238,3239,3240,3244,3247,3251,3255,3256,3260,3261,3264,3266,3267,3268,3272,3275,3279,3283,3284,3288,3291,3292,3296,3300,3304,3308,3309,3313,3314,3317,3318,3319,3320,3321,3322,3323,3324,3325,3326,3327,3328,3329,3330,3331,3332,3333,3334,3335,3336,3337,3338,3339,3340,3341,3342,3343,3344,3345,3346,3347,3349,3350,3351,3352,3353,3354,3355,3356,3358,3360,3361,3362,3363,3364,3366,3367,3368,3369,3371,3372,3373,3374,3375,3376,3377,3379,3380,3381,3382,3383,3384,3385,3386,3387,3389,3390,3391,3392,3393,3394,3396,3398,3399,3400,3401,3403,3405,3406,3408,3409,3412,3413,3415,3416,3418,3419,3420,3422,3423,3425,3426,3427,3428,3429,3430,3432,3433,3437,3440,3444,3447,3451,3455,3456,3460,3461,3464,3466,3467,3471,3472,3475,3477,3478,3482,3483,3486,3487,3491,3494,3498,3501,3505,3508,3512,3515,3519,3522,3526,3529,3530,3534,3535,3538,3539,3543,3546,3550,3553,3557,3560,3564,3568,3569,3573,3574,3577,3579,3580,3584,3585,3588,3590,3591,3595,3596,3599,3601,3602,3603,3607,3611,3612,3613,3617,3620,3621,3625,3628,3629,3633,3637,3638,3642,3645,3649,3652,3656,3659,3663,3667,3668,3672,3673,3676,3678,3679,3683,3687,3688,3692,3695,3699,3703,3707,3710,3714,3717,3721,3724,3728,3731,3732,3736,3737,3740,3741,3742,3746,3747,3750,3752,3753,3757,3758,3761,3763,3764,3768,3771,3775,3778,3779,3783,3786,3790,3793,3794,3798,3799,3802,3803,3804,3808,3809,3812,3814,3815,3819,3820,3823,3825,3826,3830,3833,3837,3840,3841,3845,3848,3852,3855,3859,3862,3866,3869,3873,3876,3877,3878,3882,3885,3886,3890,3894,3898,3902,3906,3909,3910,3914,3917,3918,3922,3925,3929,3932,3936,3939,3943,3946,3950,3953,3954,3955,3959,3962,3963,3967,3971,3975,3979,3983,3986,3987,3991,3994,3995,3999,4002,4006,4009,4013,4016,4020,4023,4027,4030,4034,4037,4041,4044,4048,4051,4052,4056,4060,4061,4065,4066,4069,4070,4071,4075,4076,4079,4080,4081,4085,4089,4090,4094,4098,4099,4103,4107,4108,4109,4113,4117,4118,4122,4123,4126,4128,4129,4133,4134,4137,4139,4140,4141,4145,4148,4152,4156,4157,4161,4162,4165,4166,4170,4173,4174,4178,4181,4185,4189,4190,4194,4195,4198,4199,4203,4206,4210,4213,4217,4220,4221,4225,4228,4229,4230,4234,4237,4238,4242,4246,4247,4251,4254,4255,4259,4262,4266,4269,4273,4277,4278,4282,4285,4289,4292,4296,4299,4303,4306,4310,4313,4317,4320,4324,4327,4331,4334,4338,4341,4345,4348,4349,4350,4354,4357,4361,4364,4368,4371,4375,4378,4382,4385,4389,4392,4396,4400,4404,4407,4411,4414,4418,4422,4423,4427,4431,4432,4436,4440,4441,4442,4446,4449,4450,4454,4457,4458,4462,4466,4467,4471,4474,4478,4481,4485,4488,4492,4495,4499,4502,4505,4508,4512,4515,4516,4520,4523,4527,4530,4534,4537,4541,4544,4548,4551,4555,4558,4562,4565,4569,4572,4573,4577,4580,4584,4587,4591,4594,4598,4601,4605,4608,4612,4615,4619,4622,4626,4629,4633,4636,4637,4641,4644,4648,4651,4655,4658,4662,4665,4669,4672,4676,4679,4683,4686,4687,4691,4694,4695,4699,4700,4703,4704,4705,4709,4710,4713,4714,4715,4719,4720,4723,4724,4725,4729,4732,4736,4739,4740,4744,4748,4749,4753,4757,4758,4762,4766,4767,4771,4774,4775,4779,4782,4786,4790,4791,4795,4798,4802,4805,4809,4812,4813,4817,4821,4822,4826,4830,4831,4835,4839,4840,4844,4845,4848,4850,4851,4855,4856,4859,4860,4861,4862,4863,4865,4866,4867,4868,4869,4870,4872,4873,4874,4875,4876,4877,4878,4879,4880,4881,4882,4883,4884,4885,4886,4887,4888,4889,4890,4898,4900,4901,4902,4903,4904,4905,4906,4908,4909,4910,4911,4913,4914,4916,4917,4918,4920,4922,4923,4927,4932,4934,4936,4937,4939,4941,4942,4944,4945,4947,4948,4950,4951,4953,4955,4957,4958,4959,4960,4962,4964,4968,4970,4974,4975,4976,4977,4979,4980,4982,4983,4984,4985,4987,4988,4990,4991,4992,4993,4995,4996,5009,5010,5012,5013,5015,5016,5018,5019,5020,5021,5023,5024,5026,5027,5028,5030,5031,5032,5033,5035,5037,5039,5040,5042,5044,5046,5048,5052,5053,5055,5057,5059,5060,5062,5063,5070,5071,5072,5073,5074,5076,5077,5079,5080,5081,5082,5083,5084,5086,5087,5089,5091,5093,5094,5097,5098,5099,5100,5101,5102,5104,5105,5107,5108,5109,5110,5111,5112,5114,5115,5117,5118,5120,5122,5123,5126,5128,5134,5135,5136,5138,5145,5147,5149,5150,5151,5153,5155,5156,5157,5159,5161,5169,5172,5173,5175,5177,5178,5180,5181,5183,5184,5186,5187,5191,5194,5195,5197,5198,5200,5202,5203,5204,5206,5208,5209,5210,5212,5213,5215,5218,5220,5222,5223,5225,5227,5228,5230,5232,5233,5235,5236,5237,5239,5240,5242,5243,5245,5248,5249,5251,5252,5254,5258,5260,5262,5263,5267,5269,5270,5271,5273,5276,5278,5279,5284,5285,5287,5288,5292,5295,5302,5305,5306,5307,5309,5311,5315,5316,5318,5330,5331,5334,5335,5337,5338,5340,5341,5343,5345,5346,5348,5351,5353,5359,5372,5389,5392,5393,5395,5396,5398,5399,5400,5401,5403,5404,5406,5407,5408,5409,5411,5412,5414,5415,5419,5420,5421,5425,5426,5429,5430,5433,5434,5436,5437,5438,5442,5443,5446,5447,5450,5451,5453,5454,5455,5459,5460,5463,5464,5467,5468,5469,5470,5474,5478,5482,5486,5487,5491,5495,5496,5500,5505,5506,5510,5514,5515,5516,5520,5524,5525,5529,5533,5537,5542,5543,5547,5551,5553,5554,5558,5562,5566,5570,5571,5575,5580,5581,5585,5589,5591,5592,5596,5600,5602,5603,5607,5608,5610,5611,5614,5615,5617,5618,5622,5623,5625,5626,5629,5630,5632,5636,5641,5645,5649,5650,5654,5658,5659,5663,5667,5668,5669,5673,5674,5678,5679,5681,5682,5683,5687,5688,5692,5693,5695,5696,5697,5701,5702,5706,5707,5709,5710,5711,5715,5716,5720,5721,5723,5724,5725,5729,5730,5734,5735,5737,5738,5739,5743,5744,5748,5749,5751,5752,5753,5757,5758,5762,5763,5765,5766,5767,5771,5772,5776,5777,5779,5780,5781,5785,5786,5790,5791,5793,5794,5795,5799,5800,5804,5805,5807,5808,5809,5813,5814,5818,5819,5821,5825,5829,5830,5834,5838,5839,5843,5848,5849,5853,5857,5858,5859,5863,5868,5869,5870,5874,5877,5880,5881,5882,5886,5891,5892,5893,5897,5900,5903,5904,5905,5906,5907,5911,5915,5917,5918,5922,5926,5927,5931,5936,5937,5941,5945,5946,5947,5951,5955,5956,5960,5964,5968,5972,5973,5974,5975,5979,5983,5984,5985,5989,5993,5994,5998,6002,6003,6007,6012,6013,6014,6018,6022,6023,6024,6028,6032,6033,6037,6041,6042,6046,6050,6051,6055,6059,6060,6064,6068,6069,6073,6078,6079,6083,6088,6089,6093,6098,6099,6103,6107,6108,6112,6116,6117,6121,6125,6126,6130,6134,6135,6136,6137,6141,6145,6146,6147,6148,6149,6153,6157,6159,6160,6164,6168,6169,6170,6171,6172,6173,6174,6175,6176,6177,6178,6179,6180,6181,6182,6183,6184,6185,6186,6187,6188,6189,6190,6191,6192,6193,6194,6195,6196,6197,6198,6199,6200,6201,6202,6203,6204,6205,6206,6207,6208,6209,6210,6211,6212,6213,6214,6215,6216,6217,6218,6219,6220,6221,6222,6223,6224,6225,6226,6227,6228,6229,6230,6231,6232,6233,6234,6235,6236,6237,6238,6239,6240,6241,6242,6243,6244,6245,6246,6247,6248,6249,6250,6251,6252,6253,6254,6255,6256,6257,6258,6259,6260,6261,6262,6263,6264,6265,6266,6267,6268,6269,6270,6271,6272,6273,6274,6275,6276,6277,6278,6279,6280,6281,6282,6283,6284,6285,6286,6287,6288,6289,6290,6291,6292,6293,6294,6295,6296,6297,6298,6299,6300,6301,6302,6303,6304,6305,6306,6307,6308,6309,6310,6311,6312,6313,6314,6315,6316,6317,6318,6319,6320,6321,6322,6323,6324,6325,6326,6327,6328,6329,6330,6331,6332,6333,6334,6335,6336,6337,6338,6339,6340,6341,6342,6343,6344,6345,6346,6347,6348,6349,6350,6351,6352,6353,6354,6355,6356,6357,6358,6359,6360,6361,6362,6363,6364,6365,6366,6367,6368,6370,6371,6372,6373,6374,6376,6377,6378,6379,6380,6381,6382,6383,6384,6385,6386,6387,6388,6389,6390,6391,6392,6393,6394,6395,6396,6397,6398,6399,6400,6401,6402,6403,6404,6405,6406,6407,6408,6410,6411,6412,6413,6414,6415,6416,6417,6418,6419,6420,6421,6422,6423,6424,6425,6426,6427,6428,6429,6430,6431,6432,6433,6434,6435,6436,6437,6438,6439,6440,6441,6443,6444,6445,6446,6447,6448,6449,6450,6451,6452,6453,6454,6455,6456,6457,6459,6461,6463,6465,6467,6468,6469,6471,6472,6473,6474,6475,6476,6477,6478,6479,6480,6481,6483,6484,6485,6487,6488,6489,6491,6492,6493,6494,6496,6497,6498,6499,6500,6502,6503,6504,6506,6507,6508,6509,6510,6511,6512,6513,6514,6515,6516,6517,6518,6519,6520,6521,6522,6523,6524,6526,6527,6528,6529,6530,6531,6532,6533,6534,6535,6536,6537,6538,6539,6541,6542,6543,6545,6546,6547,6548,6549,6550,6551,6553,6555,6556,6557,6558,6559,6560,6561,6562,6563,6564,6565,6566,6567,6568,6569,6570,6571,6572,6573,6574,6575,6576,6577,6579,6580,6581,6582,6583,6585,6586,6587,6588,6590,6591,6592,6593,6594,6595,6596,6597,6598,6599,6600,6601,6602,6603,6604,6605,6606,6607,6608,6609,6610,6611,6612,6613,6614,6615,6616,6617,6618,6619,6620,6621,6622,6623,6624,6625,6626,6627,6628,6629,6630,6632,6633,6635,6636,6638,6639,6641,6642,6644,6645,6647,6648,6649,6650,6651,6652,6653,6654,6656,6657,6658,6659,6660,6661,6663,6664,6665,6666,6667,6668,6670,6671,6672,6673,6674,6675,6676,6677,6679,6680,6681,6682,6683,6684,6685,6686,6687,6688,6689,6691,6692,6694,6695,6696,6697,6698,6700,6701,6703,6704,6705,6706,6707,6708,6710,6711,6712,6713,6714,6715,6716,6717,6718,6719,6720,6721,6722,6723,6724,6725,6726,6727,6728,6729,6730,6731,6732,6733,6734,6735,6736,6737,6738,6739,6740,6741,6742,6743,6744,6745,6746,6747,6748,6749,6750,6751,6752,6754,6755,6756,6757,6758,6759,6760,6761,6763,6764,6765,6766,6767,6768,6769,6770,6772,6773,6774,6775,6776,6777,6778,6780,6781,6782,6783,6784,6785,6786,6787,6788,6789,6791,6792,6793,6794,6795,6797,6798,6799,6800,6801,6803,6804,6805,6806,6807,6808,6810,6811,6813,6814,6815,6816,6817,6819,6820,6821,6822,6823,6824,6825,6826,6827,6829,6830,6831,6832,6833,6835,6836,6837,6838,6839,6841,6842,6843,6844,6845,6847,6848,6849,6850,6851,6852,6853,6854,6855,6856,6857,6859,6860,6862,6863,6864,6866,6867,6869,6870,6871,6873,6874,6876,6877,6881,6882,6885,6886,6887,6891,6892,6895,6896,6900,6901,6905,6906,6907,6911,6912,6913,6915,6916,6918,6919,6920,6921,6922,6923,6927,6928,6931,6932,6933,6937,6938,6941,6942,6946,6947,6950,6951,6955,6956,6960,6961,6962,6966,6967,6970) have mixed types.Specify dtype option on import or set low_memory=False.\n",
            "  exec(code_obj, self.user_global_ns, self.user_ns)\n"
          ]
        },
        {
          "output_type": "execute_result",
          "data": {
            "text/plain": [
              "                   _id/$oid  bonusPointsEarned  \\\n",
              "0  5ff1e1eb0a720f0523000575              500.0   \n",
              "1  5ff1e1bb0a720f052300056b              150.0   \n",
              "2  5ff1e1f10a720f052300057a                5.0   \n",
              "3  5ff1e1ee0a7214ada100056f                5.0   \n",
              "4  5ff1e1d20a7214ada1000561                5.0   \n",
              "\n",
              "                             bonusPointsEarnedReason  createDate/$date  \\\n",
              "0  Receipt number 2 completed, bonus point schedu...     1609687531000   \n",
              "1  Receipt number 5 completed, bonus point schedu...     1609687483000   \n",
              "2                         All-receipts receipt bonus     1609687537000   \n",
              "3                         All-receipts receipt bonus     1609687534000   \n",
              "4                         All-receipts receipt bonus     1609687506000   \n",
              "\n",
              "   dateScanned/$date  finishedDate/$date  modifyDate/$date  \\\n",
              "0      1609687531000        1.609688e+12     1609687536000   \n",
              "1      1609687483000        1.609687e+12     1609687488000   \n",
              "2      1609687537000                 NaN     1609687542000   \n",
              "3      1609687534000        1.609688e+12     1609687539000   \n",
              "4      1609687506000        1.609688e+12     1609687511000   \n",
              "\n",
              "   pointsAwardedDate/$date  pointsEarned  purchaseDate/$date  ...  \\\n",
              "0             1.609688e+12         500.0        1.609632e+12  ...   \n",
              "1             1.609687e+12         150.0        1.609601e+12  ...   \n",
              "2                      NaN           5.0        1.609632e+12  ...   \n",
              "3             1.609688e+12           5.0        1.609632e+12  ...   \n",
              "4             1.609688e+12           5.0        1.609601e+12  ...   \n",
              "\n",
              "   rewardsReceiptItemList/458/competitorRewardsGroup  \\\n",
              "0                                                NaN   \n",
              "1                                                NaN   \n",
              "2                                                NaN   \n",
              "3                                                NaN   \n",
              "4                                                NaN   \n",
              "\n",
              "  rewardsReceiptItemList/458/description  \\\n",
              "0                                    NaN   \n",
              "1                                    NaN   \n",
              "2                                    NaN   \n",
              "3                                    NaN   \n",
              "4                                    NaN   \n",
              "\n",
              "  rewardsReceiptItemList/458/discountedItemPrice  \\\n",
              "0                                            NaN   \n",
              "1                                            NaN   \n",
              "2                                            NaN   \n",
              "3                                            NaN   \n",
              "4                                            NaN   \n",
              "\n",
              "   rewardsReceiptItemList/458/finalPrice  \\\n",
              "0                                    NaN   \n",
              "1                                    NaN   \n",
              "2                                    NaN   \n",
              "3                                    NaN   \n",
              "4                                    NaN   \n",
              "\n",
              "   rewardsReceiptItemList/458/itemPrice  \\\n",
              "0                                   NaN   \n",
              "1                                   NaN   \n",
              "2                                   NaN   \n",
              "3                                   NaN   \n",
              "4                                   NaN   \n",
              "\n",
              "  rewardsReceiptItemList/458/needsFetchReview  \\\n",
              "0                                         NaN   \n",
              "1                                         NaN   \n",
              "2                                         NaN   \n",
              "3                                         NaN   \n",
              "4                                         NaN   \n",
              "\n",
              "   rewardsReceiptItemList/458/originalReceiptItemText  \\\n",
              "0                                                NaN    \n",
              "1                                                NaN    \n",
              "2                                                NaN    \n",
              "3                                                NaN    \n",
              "4                                                NaN    \n",
              "\n",
              "  rewardsReceiptItemList/458/partnerItemId  \\\n",
              "0                                      NaN   \n",
              "1                                      NaN   \n",
              "2                                      NaN   \n",
              "3                                      NaN   \n",
              "4                                      NaN   \n",
              "\n",
              "   rewardsReceiptItemList/458/quantityPurchased  \\\n",
              "0                                           NaN   \n",
              "1                                           NaN   \n",
              "2                                           NaN   \n",
              "3                                           NaN   \n",
              "4                                           NaN   \n",
              "\n",
              "   rewardsReceiptItemList/458/rewardsProductPartnerId  \n",
              "0                                                NaN   \n",
              "1                                                NaN   \n",
              "2                                                NaN   \n",
              "3                                                NaN   \n",
              "4                                                NaN   \n",
              "\n",
              "[5 rows x 6971 columns]"
            ],
            "text/html": [
              "\n",
              "  <div id=\"df-8ac81cd2-b050-42bb-afa7-b7bdbf19ca8e\">\n",
              "    <div class=\"colab-df-container\">\n",
              "      <div>\n",
              "<style scoped>\n",
              "    .dataframe tbody tr th:only-of-type {\n",
              "        vertical-align: middle;\n",
              "    }\n",
              "\n",
              "    .dataframe tbody tr th {\n",
              "        vertical-align: top;\n",
              "    }\n",
              "\n",
              "    .dataframe thead th {\n",
              "        text-align: right;\n",
              "    }\n",
              "</style>\n",
              "<table border=\"1\" class=\"dataframe\">\n",
              "  <thead>\n",
              "    <tr style=\"text-align: right;\">\n",
              "      <th></th>\n",
              "      <th>_id/$oid</th>\n",
              "      <th>bonusPointsEarned</th>\n",
              "      <th>bonusPointsEarnedReason</th>\n",
              "      <th>createDate/$date</th>\n",
              "      <th>dateScanned/$date</th>\n",
              "      <th>finishedDate/$date</th>\n",
              "      <th>modifyDate/$date</th>\n",
              "      <th>pointsAwardedDate/$date</th>\n",
              "      <th>pointsEarned</th>\n",
              "      <th>purchaseDate/$date</th>\n",
              "      <th>...</th>\n",
              "      <th>rewardsReceiptItemList/458/competitorRewardsGroup</th>\n",
              "      <th>rewardsReceiptItemList/458/description</th>\n",
              "      <th>rewardsReceiptItemList/458/discountedItemPrice</th>\n",
              "      <th>rewardsReceiptItemList/458/finalPrice</th>\n",
              "      <th>rewardsReceiptItemList/458/itemPrice</th>\n",
              "      <th>rewardsReceiptItemList/458/needsFetchReview</th>\n",
              "      <th>rewardsReceiptItemList/458/originalReceiptItemText</th>\n",
              "      <th>rewardsReceiptItemList/458/partnerItemId</th>\n",
              "      <th>rewardsReceiptItemList/458/quantityPurchased</th>\n",
              "      <th>rewardsReceiptItemList/458/rewardsProductPartnerId</th>\n",
              "    </tr>\n",
              "  </thead>\n",
              "  <tbody>\n",
              "    <tr>\n",
              "      <th>0</th>\n",
              "      <td>5ff1e1eb0a720f0523000575</td>\n",
              "      <td>500.0</td>\n",
              "      <td>Receipt number 2 completed, bonus point schedu...</td>\n",
              "      <td>1609687531000</td>\n",
              "      <td>1609687531000</td>\n",
              "      <td>1.609688e+12</td>\n",
              "      <td>1609687536000</td>\n",
              "      <td>1.609688e+12</td>\n",
              "      <td>500.0</td>\n",
              "      <td>1.609632e+12</td>\n",
              "      <td>...</td>\n",
              "      <td>NaN</td>\n",
              "      <td>NaN</td>\n",
              "      <td>NaN</td>\n",
              "      <td>NaN</td>\n",
              "      <td>NaN</td>\n",
              "      <td>NaN</td>\n",
              "      <td>NaN</td>\n",
              "      <td>NaN</td>\n",
              "      <td>NaN</td>\n",
              "      <td>NaN</td>\n",
              "    </tr>\n",
              "    <tr>\n",
              "      <th>1</th>\n",
              "      <td>5ff1e1bb0a720f052300056b</td>\n",
              "      <td>150.0</td>\n",
              "      <td>Receipt number 5 completed, bonus point schedu...</td>\n",
              "      <td>1609687483000</td>\n",
              "      <td>1609687483000</td>\n",
              "      <td>1.609687e+12</td>\n",
              "      <td>1609687488000</td>\n",
              "      <td>1.609687e+12</td>\n",
              "      <td>150.0</td>\n",
              "      <td>1.609601e+12</td>\n",
              "      <td>...</td>\n",
              "      <td>NaN</td>\n",
              "      <td>NaN</td>\n",
              "      <td>NaN</td>\n",
              "      <td>NaN</td>\n",
              "      <td>NaN</td>\n",
              "      <td>NaN</td>\n",
              "      <td>NaN</td>\n",
              "      <td>NaN</td>\n",
              "      <td>NaN</td>\n",
              "      <td>NaN</td>\n",
              "    </tr>\n",
              "    <tr>\n",
              "      <th>2</th>\n",
              "      <td>5ff1e1f10a720f052300057a</td>\n",
              "      <td>5.0</td>\n",
              "      <td>All-receipts receipt bonus</td>\n",
              "      <td>1609687537000</td>\n",
              "      <td>1609687537000</td>\n",
              "      <td>NaN</td>\n",
              "      <td>1609687542000</td>\n",
              "      <td>NaN</td>\n",
              "      <td>5.0</td>\n",
              "      <td>1.609632e+12</td>\n",
              "      <td>...</td>\n",
              "      <td>NaN</td>\n",
              "      <td>NaN</td>\n",
              "      <td>NaN</td>\n",
              "      <td>NaN</td>\n",
              "      <td>NaN</td>\n",
              "      <td>NaN</td>\n",
              "      <td>NaN</td>\n",
              "      <td>NaN</td>\n",
              "      <td>NaN</td>\n",
              "      <td>NaN</td>\n",
              "    </tr>\n",
              "    <tr>\n",
              "      <th>3</th>\n",
              "      <td>5ff1e1ee0a7214ada100056f</td>\n",
              "      <td>5.0</td>\n",
              "      <td>All-receipts receipt bonus</td>\n",
              "      <td>1609687534000</td>\n",
              "      <td>1609687534000</td>\n",
              "      <td>1.609688e+12</td>\n",
              "      <td>1609687539000</td>\n",
              "      <td>1.609688e+12</td>\n",
              "      <td>5.0</td>\n",
              "      <td>1.609632e+12</td>\n",
              "      <td>...</td>\n",
              "      <td>NaN</td>\n",
              "      <td>NaN</td>\n",
              "      <td>NaN</td>\n",
              "      <td>NaN</td>\n",
              "      <td>NaN</td>\n",
              "      <td>NaN</td>\n",
              "      <td>NaN</td>\n",
              "      <td>NaN</td>\n",
              "      <td>NaN</td>\n",
              "      <td>NaN</td>\n",
              "    </tr>\n",
              "    <tr>\n",
              "      <th>4</th>\n",
              "      <td>5ff1e1d20a7214ada1000561</td>\n",
              "      <td>5.0</td>\n",
              "      <td>All-receipts receipt bonus</td>\n",
              "      <td>1609687506000</td>\n",
              "      <td>1609687506000</td>\n",
              "      <td>1.609688e+12</td>\n",
              "      <td>1609687511000</td>\n",
              "      <td>1.609688e+12</td>\n",
              "      <td>5.0</td>\n",
              "      <td>1.609601e+12</td>\n",
              "      <td>...</td>\n",
              "      <td>NaN</td>\n",
              "      <td>NaN</td>\n",
              "      <td>NaN</td>\n",
              "      <td>NaN</td>\n",
              "      <td>NaN</td>\n",
              "      <td>NaN</td>\n",
              "      <td>NaN</td>\n",
              "      <td>NaN</td>\n",
              "      <td>NaN</td>\n",
              "      <td>NaN</td>\n",
              "    </tr>\n",
              "  </tbody>\n",
              "</table>\n",
              "<p>5 rows × 6971 columns</p>\n",
              "</div>\n",
              "      <button class=\"colab-df-convert\" onclick=\"convertToInteractive('df-8ac81cd2-b050-42bb-afa7-b7bdbf19ca8e')\"\n",
              "              title=\"Convert this dataframe to an interactive table.\"\n",
              "              style=\"display:none;\">\n",
              "        \n",
              "  <svg xmlns=\"http://www.w3.org/2000/svg\" height=\"24px\"viewBox=\"0 0 24 24\"\n",
              "       width=\"24px\">\n",
              "    <path d=\"M0 0h24v24H0V0z\" fill=\"none\"/>\n",
              "    <path d=\"M18.56 5.44l.94 2.06.94-2.06 2.06-.94-2.06-.94-.94-2.06-.94 2.06-2.06.94zm-11 1L8.5 8.5l.94-2.06 2.06-.94-2.06-.94L8.5 2.5l-.94 2.06-2.06.94zm10 10l.94 2.06.94-2.06 2.06-.94-2.06-.94-.94-2.06-.94 2.06-2.06.94z\"/><path d=\"M17.41 7.96l-1.37-1.37c-.4-.4-.92-.59-1.43-.59-.52 0-1.04.2-1.43.59L10.3 9.45l-7.72 7.72c-.78.78-.78 2.05 0 2.83L4 21.41c.39.39.9.59 1.41.59.51 0 1.02-.2 1.41-.59l7.78-7.78 2.81-2.81c.8-.78.8-2.07 0-2.86zM5.41 20L4 18.59l7.72-7.72 1.47 1.35L5.41 20z\"/>\n",
              "  </svg>\n",
              "      </button>\n",
              "      \n",
              "  <style>\n",
              "    .colab-df-container {\n",
              "      display:flex;\n",
              "      flex-wrap:wrap;\n",
              "      gap: 12px;\n",
              "    }\n",
              "\n",
              "    .colab-df-convert {\n",
              "      background-color: #E8F0FE;\n",
              "      border: none;\n",
              "      border-radius: 50%;\n",
              "      cursor: pointer;\n",
              "      display: none;\n",
              "      fill: #1967D2;\n",
              "      height: 32px;\n",
              "      padding: 0 0 0 0;\n",
              "      width: 32px;\n",
              "    }\n",
              "\n",
              "    .colab-df-convert:hover {\n",
              "      background-color: #E2EBFA;\n",
              "      box-shadow: 0px 1px 2px rgba(60, 64, 67, 0.3), 0px 1px 3px 1px rgba(60, 64, 67, 0.15);\n",
              "      fill: #174EA6;\n",
              "    }\n",
              "\n",
              "    [theme=dark] .colab-df-convert {\n",
              "      background-color: #3B4455;\n",
              "      fill: #D2E3FC;\n",
              "    }\n",
              "\n",
              "    [theme=dark] .colab-df-convert:hover {\n",
              "      background-color: #434B5C;\n",
              "      box-shadow: 0px 1px 3px 1px rgba(0, 0, 0, 0.15);\n",
              "      filter: drop-shadow(0px 1px 2px rgba(0, 0, 0, 0.3));\n",
              "      fill: #FFFFFF;\n",
              "    }\n",
              "  </style>\n",
              "\n",
              "      <script>\n",
              "        const buttonEl =\n",
              "          document.querySelector('#df-8ac81cd2-b050-42bb-afa7-b7bdbf19ca8e button.colab-df-convert');\n",
              "        buttonEl.style.display =\n",
              "          google.colab.kernel.accessAllowed ? 'block' : 'none';\n",
              "\n",
              "        async function convertToInteractive(key) {\n",
              "          const element = document.querySelector('#df-8ac81cd2-b050-42bb-afa7-b7bdbf19ca8e');\n",
              "          const dataTable =\n",
              "            await google.colab.kernel.invokeFunction('convertToInteractive',\n",
              "                                                     [key], {});\n",
              "          if (!dataTable) return;\n",
              "\n",
              "          const docLinkHtml = 'Like what you see? Visit the ' +\n",
              "            '<a target=\"_blank\" href=https://colab.research.google.com/notebooks/data_table.ipynb>data table notebook</a>'\n",
              "            + ' to learn more about interactive tables.';\n",
              "          element.innerHTML = '';\n",
              "          dataTable['output_type'] = 'display_data';\n",
              "          await google.colab.output.renderOutput(dataTable, element);\n",
              "          const docLink = document.createElement('div');\n",
              "          docLink.innerHTML = docLinkHtml;\n",
              "          element.appendChild(docLink);\n",
              "        }\n",
              "      </script>\n",
              "    </div>\n",
              "  </div>\n",
              "  "
            ]
          },
          "metadata": {},
          "execution_count": 110
        }
      ]
    },
    {
      "cell_type": "code",
      "source": [
        "receipts.info()"
      ],
      "metadata": {
        "colab": {
          "base_uri": "https://localhost:8080/"
        },
        "id": "V49E2lse21ZX",
        "outputId": "e09ce6d8-8229-4ca4-a13e-156228b323a4"
      },
      "execution_count": 111,
      "outputs": [
        {
          "output_type": "stream",
          "name": "stdout",
          "text": [
            "<class 'pandas.core.frame.DataFrame'>\n",
            "RangeIndex: 1119 entries, 0 to 1118\n",
            "Columns: 6971 entries, _id/$oid to rewardsReceiptItemList/458/rewardsProductPartnerId\n",
            "dtypes: float64(3446), int64(3), object(3522)\n",
            "memory usage: 59.5+ MB\n"
          ]
        }
      ]
    },
    {
      "cell_type": "code",
      "source": [
        "cols1  = receipts.iloc[: , :11]\n",
        "cols2  = receipts.iloc[: , 23:26]"
      ],
      "metadata": {
        "id": "cRJB0bGxT10R"
      },
      "execution_count": 112,
      "outputs": []
    },
    {
      "cell_type": "code",
      "source": [
        "receipt_fin = pd.concat([cols1,cols2],axis=1)"
      ],
      "metadata": {
        "id": "XJkQXCQ0Wn-t"
      },
      "execution_count": 113,
      "outputs": []
    },
    {
      "cell_type": "code",
      "source": [
        "receipt_fin.head()"
      ],
      "metadata": {
        "colab": {
          "base_uri": "https://localhost:8080/",
          "height": 340
        },
        "id": "9T2HEv0VWoBP",
        "outputId": "9cac5da7-1eca-4f3b-8e8a-2ae928e3fa9f"
      },
      "execution_count": 114,
      "outputs": [
        {
          "output_type": "execute_result",
          "data": {
            "text/plain": [
              "                   _id/$oid  bonusPointsEarned  \\\n",
              "0  5ff1e1eb0a720f0523000575              500.0   \n",
              "1  5ff1e1bb0a720f052300056b              150.0   \n",
              "2  5ff1e1f10a720f052300057a                5.0   \n",
              "3  5ff1e1ee0a7214ada100056f                5.0   \n",
              "4  5ff1e1d20a7214ada1000561                5.0   \n",
              "\n",
              "                             bonusPointsEarnedReason  createDate/$date  \\\n",
              "0  Receipt number 2 completed, bonus point schedu...     1609687531000   \n",
              "1  Receipt number 5 completed, bonus point schedu...     1609687483000   \n",
              "2                         All-receipts receipt bonus     1609687537000   \n",
              "3                         All-receipts receipt bonus     1609687534000   \n",
              "4                         All-receipts receipt bonus     1609687506000   \n",
              "\n",
              "   dateScanned/$date  finishedDate/$date  modifyDate/$date  \\\n",
              "0      1609687531000        1.609688e+12     1609687536000   \n",
              "1      1609687483000        1.609687e+12     1609687488000   \n",
              "2      1609687537000                 NaN     1609687542000   \n",
              "3      1609687534000        1.609688e+12     1609687539000   \n",
              "4      1609687506000        1.609688e+12     1609687511000   \n",
              "\n",
              "   pointsAwardedDate/$date  pointsEarned  purchaseDate/$date  \\\n",
              "0             1.609688e+12         500.0        1.609632e+12   \n",
              "1             1.609687e+12         150.0        1.609601e+12   \n",
              "2                      NaN           5.0        1.609632e+12   \n",
              "3             1.609688e+12           5.0        1.609632e+12   \n",
              "4             1.609688e+12           5.0        1.609601e+12   \n",
              "\n",
              "   purchasedItemCount rewardsReceiptStatus  totalSpent  \\\n",
              "0                 5.0             FINISHED        26.0   \n",
              "1                 2.0             FINISHED        11.0   \n",
              "2                 1.0             REJECTED        10.0   \n",
              "3                 4.0             FINISHED        28.0   \n",
              "4                 2.0             FINISHED         1.0   \n",
              "\n",
              "                     userId  \n",
              "0  5ff1e1eacfcf6c399c274ae6  \n",
              "1  5ff1e194b6a9d73a3a9f1052  \n",
              "2  5ff1e1f1cfcf6c399c274b0b  \n",
              "3  5ff1e1eacfcf6c399c274ae6  \n",
              "4  5ff1e194b6a9d73a3a9f1052  "
            ],
            "text/html": [
              "\n",
              "  <div id=\"df-1b805c8e-af9c-44cc-8d6f-c232c408885c\">\n",
              "    <div class=\"colab-df-container\">\n",
              "      <div>\n",
              "<style scoped>\n",
              "    .dataframe tbody tr th:only-of-type {\n",
              "        vertical-align: middle;\n",
              "    }\n",
              "\n",
              "    .dataframe tbody tr th {\n",
              "        vertical-align: top;\n",
              "    }\n",
              "\n",
              "    .dataframe thead th {\n",
              "        text-align: right;\n",
              "    }\n",
              "</style>\n",
              "<table border=\"1\" class=\"dataframe\">\n",
              "  <thead>\n",
              "    <tr style=\"text-align: right;\">\n",
              "      <th></th>\n",
              "      <th>_id/$oid</th>\n",
              "      <th>bonusPointsEarned</th>\n",
              "      <th>bonusPointsEarnedReason</th>\n",
              "      <th>createDate/$date</th>\n",
              "      <th>dateScanned/$date</th>\n",
              "      <th>finishedDate/$date</th>\n",
              "      <th>modifyDate/$date</th>\n",
              "      <th>pointsAwardedDate/$date</th>\n",
              "      <th>pointsEarned</th>\n",
              "      <th>purchaseDate/$date</th>\n",
              "      <th>purchasedItemCount</th>\n",
              "      <th>rewardsReceiptStatus</th>\n",
              "      <th>totalSpent</th>\n",
              "      <th>userId</th>\n",
              "    </tr>\n",
              "  </thead>\n",
              "  <tbody>\n",
              "    <tr>\n",
              "      <th>0</th>\n",
              "      <td>5ff1e1eb0a720f0523000575</td>\n",
              "      <td>500.0</td>\n",
              "      <td>Receipt number 2 completed, bonus point schedu...</td>\n",
              "      <td>1609687531000</td>\n",
              "      <td>1609687531000</td>\n",
              "      <td>1.609688e+12</td>\n",
              "      <td>1609687536000</td>\n",
              "      <td>1.609688e+12</td>\n",
              "      <td>500.0</td>\n",
              "      <td>1.609632e+12</td>\n",
              "      <td>5.0</td>\n",
              "      <td>FINISHED</td>\n",
              "      <td>26.0</td>\n",
              "      <td>5ff1e1eacfcf6c399c274ae6</td>\n",
              "    </tr>\n",
              "    <tr>\n",
              "      <th>1</th>\n",
              "      <td>5ff1e1bb0a720f052300056b</td>\n",
              "      <td>150.0</td>\n",
              "      <td>Receipt number 5 completed, bonus point schedu...</td>\n",
              "      <td>1609687483000</td>\n",
              "      <td>1609687483000</td>\n",
              "      <td>1.609687e+12</td>\n",
              "      <td>1609687488000</td>\n",
              "      <td>1.609687e+12</td>\n",
              "      <td>150.0</td>\n",
              "      <td>1.609601e+12</td>\n",
              "      <td>2.0</td>\n",
              "      <td>FINISHED</td>\n",
              "      <td>11.0</td>\n",
              "      <td>5ff1e194b6a9d73a3a9f1052</td>\n",
              "    </tr>\n",
              "    <tr>\n",
              "      <th>2</th>\n",
              "      <td>5ff1e1f10a720f052300057a</td>\n",
              "      <td>5.0</td>\n",
              "      <td>All-receipts receipt bonus</td>\n",
              "      <td>1609687537000</td>\n",
              "      <td>1609687537000</td>\n",
              "      <td>NaN</td>\n",
              "      <td>1609687542000</td>\n",
              "      <td>NaN</td>\n",
              "      <td>5.0</td>\n",
              "      <td>1.609632e+12</td>\n",
              "      <td>1.0</td>\n",
              "      <td>REJECTED</td>\n",
              "      <td>10.0</td>\n",
              "      <td>5ff1e1f1cfcf6c399c274b0b</td>\n",
              "    </tr>\n",
              "    <tr>\n",
              "      <th>3</th>\n",
              "      <td>5ff1e1ee0a7214ada100056f</td>\n",
              "      <td>5.0</td>\n",
              "      <td>All-receipts receipt bonus</td>\n",
              "      <td>1609687534000</td>\n",
              "      <td>1609687534000</td>\n",
              "      <td>1.609688e+12</td>\n",
              "      <td>1609687539000</td>\n",
              "      <td>1.609688e+12</td>\n",
              "      <td>5.0</td>\n",
              "      <td>1.609632e+12</td>\n",
              "      <td>4.0</td>\n",
              "      <td>FINISHED</td>\n",
              "      <td>28.0</td>\n",
              "      <td>5ff1e1eacfcf6c399c274ae6</td>\n",
              "    </tr>\n",
              "    <tr>\n",
              "      <th>4</th>\n",
              "      <td>5ff1e1d20a7214ada1000561</td>\n",
              "      <td>5.0</td>\n",
              "      <td>All-receipts receipt bonus</td>\n",
              "      <td>1609687506000</td>\n",
              "      <td>1609687506000</td>\n",
              "      <td>1.609688e+12</td>\n",
              "      <td>1609687511000</td>\n",
              "      <td>1.609688e+12</td>\n",
              "      <td>5.0</td>\n",
              "      <td>1.609601e+12</td>\n",
              "      <td>2.0</td>\n",
              "      <td>FINISHED</td>\n",
              "      <td>1.0</td>\n",
              "      <td>5ff1e194b6a9d73a3a9f1052</td>\n",
              "    </tr>\n",
              "  </tbody>\n",
              "</table>\n",
              "</div>\n",
              "      <button class=\"colab-df-convert\" onclick=\"convertToInteractive('df-1b805c8e-af9c-44cc-8d6f-c232c408885c')\"\n",
              "              title=\"Convert this dataframe to an interactive table.\"\n",
              "              style=\"display:none;\">\n",
              "        \n",
              "  <svg xmlns=\"http://www.w3.org/2000/svg\" height=\"24px\"viewBox=\"0 0 24 24\"\n",
              "       width=\"24px\">\n",
              "    <path d=\"M0 0h24v24H0V0z\" fill=\"none\"/>\n",
              "    <path d=\"M18.56 5.44l.94 2.06.94-2.06 2.06-.94-2.06-.94-.94-2.06-.94 2.06-2.06.94zm-11 1L8.5 8.5l.94-2.06 2.06-.94-2.06-.94L8.5 2.5l-.94 2.06-2.06.94zm10 10l.94 2.06.94-2.06 2.06-.94-2.06-.94-.94-2.06-.94 2.06-2.06.94z\"/><path d=\"M17.41 7.96l-1.37-1.37c-.4-.4-.92-.59-1.43-.59-.52 0-1.04.2-1.43.59L10.3 9.45l-7.72 7.72c-.78.78-.78 2.05 0 2.83L4 21.41c.39.39.9.59 1.41.59.51 0 1.02-.2 1.41-.59l7.78-7.78 2.81-2.81c.8-.78.8-2.07 0-2.86zM5.41 20L4 18.59l7.72-7.72 1.47 1.35L5.41 20z\"/>\n",
              "  </svg>\n",
              "      </button>\n",
              "      \n",
              "  <style>\n",
              "    .colab-df-container {\n",
              "      display:flex;\n",
              "      flex-wrap:wrap;\n",
              "      gap: 12px;\n",
              "    }\n",
              "\n",
              "    .colab-df-convert {\n",
              "      background-color: #E8F0FE;\n",
              "      border: none;\n",
              "      border-radius: 50%;\n",
              "      cursor: pointer;\n",
              "      display: none;\n",
              "      fill: #1967D2;\n",
              "      height: 32px;\n",
              "      padding: 0 0 0 0;\n",
              "      width: 32px;\n",
              "    }\n",
              "\n",
              "    .colab-df-convert:hover {\n",
              "      background-color: #E2EBFA;\n",
              "      box-shadow: 0px 1px 2px rgba(60, 64, 67, 0.3), 0px 1px 3px 1px rgba(60, 64, 67, 0.15);\n",
              "      fill: #174EA6;\n",
              "    }\n",
              "\n",
              "    [theme=dark] .colab-df-convert {\n",
              "      background-color: #3B4455;\n",
              "      fill: #D2E3FC;\n",
              "    }\n",
              "\n",
              "    [theme=dark] .colab-df-convert:hover {\n",
              "      background-color: #434B5C;\n",
              "      box-shadow: 0px 1px 3px 1px rgba(0, 0, 0, 0.15);\n",
              "      filter: drop-shadow(0px 1px 2px rgba(0, 0, 0, 0.3));\n",
              "      fill: #FFFFFF;\n",
              "    }\n",
              "  </style>\n",
              "\n",
              "      <script>\n",
              "        const buttonEl =\n",
              "          document.querySelector('#df-1b805c8e-af9c-44cc-8d6f-c232c408885c button.colab-df-convert');\n",
              "        buttonEl.style.display =\n",
              "          google.colab.kernel.accessAllowed ? 'block' : 'none';\n",
              "\n",
              "        async function convertToInteractive(key) {\n",
              "          const element = document.querySelector('#df-1b805c8e-af9c-44cc-8d6f-c232c408885c');\n",
              "          const dataTable =\n",
              "            await google.colab.kernel.invokeFunction('convertToInteractive',\n",
              "                                                     [key], {});\n",
              "          if (!dataTable) return;\n",
              "\n",
              "          const docLinkHtml = 'Like what you see? Visit the ' +\n",
              "            '<a target=\"_blank\" href=https://colab.research.google.com/notebooks/data_table.ipynb>data table notebook</a>'\n",
              "            + ' to learn more about interactive tables.';\n",
              "          element.innerHTML = '';\n",
              "          dataTable['output_type'] = 'display_data';\n",
              "          await google.colab.output.renderOutput(dataTable, element);\n",
              "          const docLink = document.createElement('div');\n",
              "          docLink.innerHTML = docLinkHtml;\n",
              "          element.appendChild(docLink);\n",
              "        }\n",
              "      </script>\n",
              "    </div>\n",
              "  </div>\n",
              "  "
            ]
          },
          "metadata": {},
          "execution_count": 114
        }
      ]
    },
    {
      "cell_type": "markdown",
      "source": [
        "# Analyzing null Values"
      ],
      "metadata": {
        "id": "Dtbq__P75Irv"
      }
    },
    {
      "cell_type": "code",
      "source": [
        "receipt_fin.isna().sum()"
      ],
      "metadata": {
        "colab": {
          "base_uri": "https://localhost:8080/"
        },
        "id": "gJkrh92TWoGM",
        "outputId": "d1058a6d-4528-421d-9a89-72bf3715a99a"
      },
      "execution_count": 115,
      "outputs": [
        {
          "output_type": "execute_result",
          "data": {
            "text/plain": [
              "_id/$oid                     0\n",
              "bonusPointsEarned          575\n",
              "bonusPointsEarnedReason    575\n",
              "createDate/$date             0\n",
              "dateScanned/$date            0\n",
              "finishedDate/$date         551\n",
              "modifyDate/$date             0\n",
              "pointsAwardedDate/$date    582\n",
              "pointsEarned               510\n",
              "purchaseDate/$date         448\n",
              "purchasedItemCount         484\n",
              "rewardsReceiptStatus         0\n",
              "totalSpent                 435\n",
              "userId                       0\n",
              "dtype: int64"
            ]
          },
          "metadata": {},
          "execution_count": 115
        }
      ]
    },
    {
      "cell_type": "code",
      "source": [
        "receipt_fin.rewardsReceiptStatus.value_counts()"
      ],
      "metadata": {
        "colab": {
          "base_uri": "https://localhost:8080/"
        },
        "id": "hGw4jCXUcGk-",
        "outputId": "3f264026-d9a9-476d-f366-10ddc2d8cede"
      },
      "execution_count": 116,
      "outputs": [
        {
          "output_type": "execute_result",
          "data": {
            "text/plain": [
              "FINISHED     518\n",
              "SUBMITTED    434\n",
              "REJECTED      71\n",
              "PENDING       50\n",
              "FLAGGED       46\n",
              "Name: rewardsReceiptStatus, dtype: int64"
            ]
          },
          "metadata": {},
          "execution_count": 116
        }
      ]
    },
    {
      "cell_type": "markdown",
      "source": [
        "# ISSUE 7 : Receipts with Status \"Submitted\" has most of the columns null. Consumes Storage space"
      ],
      "metadata": {
        "id": "s0FZZhPJ8pNK"
      }
    },
    {
      "cell_type": "code",
      "source": [
        "receipts_sub=receipt_fin[receipt_fin.rewardsReceiptStatus=='SUBMITTED']"
      ],
      "metadata": {
        "id": "DcAVXFQrcGp8"
      },
      "execution_count": 117,
      "outputs": []
    },
    {
      "cell_type": "code",
      "source": [
        "receipts_sub.shape"
      ],
      "metadata": {
        "colab": {
          "base_uri": "https://localhost:8080/"
        },
        "id": "ZUXp4coHdBsY",
        "outputId": "32f052f3-6323-4d3a-e62c-d6d2943e76e2"
      },
      "execution_count": 118,
      "outputs": [
        {
          "output_type": "execute_result",
          "data": {
            "text/plain": [
              "(434, 14)"
            ]
          },
          "metadata": {},
          "execution_count": 118
        }
      ]
    },
    {
      "cell_type": "code",
      "source": [
        "receipts_sub.isnull().sum()"
      ],
      "metadata": {
        "colab": {
          "base_uri": "https://localhost:8080/"
        },
        "id": "0LSodSZGcGr8",
        "outputId": "7511c3c6-475a-4448-8741-d052bcda99f4"
      },
      "execution_count": 119,
      "outputs": [
        {
          "output_type": "execute_result",
          "data": {
            "text/plain": [
              "_id/$oid                     0\n",
              "bonusPointsEarned          434\n",
              "bonusPointsEarnedReason    434\n",
              "createDate/$date             0\n",
              "dateScanned/$date            0\n",
              "finishedDate/$date         434\n",
              "modifyDate/$date             0\n",
              "pointsAwardedDate/$date    434\n",
              "pointsEarned               434\n",
              "purchaseDate/$date         434\n",
              "purchasedItemCount         434\n",
              "rewardsReceiptStatus         0\n",
              "totalSpent                 434\n",
              "userId                       0\n",
              "dtype: int64"
            ]
          },
          "metadata": {},
          "execution_count": 119
        }
      ]
    }
  ]
}